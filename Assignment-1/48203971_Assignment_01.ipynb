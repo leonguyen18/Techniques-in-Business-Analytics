{
 "cells": [
  {
   "cell_type": "markdown",
   "metadata": {},
   "source": [
    "# Individual assignment 1 - BUSA8000 - Techniques in Business Analytics"
   ]
  },
  {
   "cell_type": "markdown",
   "metadata": {},
   "source": [
    "- **Student name**: Quoc Phong Nguyen\n",
    "- **Student ID**: 48203971"
   ]
  },
  {
   "cell_type": "markdown",
   "metadata": {},
   "source": [
    "**Acknowledgement Statement by students:** I acknowledge that I have **only used** GAITs (e.g., ChatGPT) in drafting and proofreading this assignment, which is permitted in the assignment instructions. \n"
   ]
  },
  {
   "cell_type": "markdown",
   "metadata": {},
   "source": [
    "| Field           | Description                                                                                       |\n",
    "|-----------------|---------------------------------------------------------------------------------------------------|\n",
    "| invoice_no      | Invoice number. Nominal. A combination of the letter 'I' and a 6-digit integer uniquely assigned to each operation. |\n",
    "| customer_id     | Customer number. Nominal. A combination of the letter 'C' and a 6-digit integer uniquely assigned to each operation. |\n",
    "| gender          | String variable of the customer's gender.                                                         |\n",
    "| age             | Positive Integer variable of the customer's age.                                                  |\n",
    "| category        | String variable of the category of the purchased product.                                         |\n",
    "| quantity        | The quantities of each product (item) per transaction. Numeric.                                   |\n",
    "| price           | Unit price. Numeric. Product price per unit in Turkish Liras (TL).                                |\n",
    "| payment_method  | String variable of the payment method (cash, credit card or debit card) used for the transaction. |\n",
    "| invoice_date    | Invoice date. The day when a transaction was generated.                                           |\n",
    "| shopping_mall   | String variable of the name of the shopping mall where the transaction was made.                  |"
   ]
  },
  {
   "cell_type": "markdown",
   "metadata": {},
   "source": [
    "## Import libraries"
   ]
  },
  {
   "cell_type": "code",
   "execution_count": 1,
   "metadata": {},
   "outputs": [],
   "source": [
    "import pandas as pd\n",
    "import numpy as np\n",
    "import re\n",
    "import matplotlib.pyplot as plt\n",
    "import seaborn as sns\n",
    "import plotly.express as px\n",
    "from scipy import stats\n",
    "from scipy.stats import skew\n"
   ]
  },
  {
   "cell_type": "markdown",
   "metadata": {},
   "source": [
    "## Section 1: Data Cleansing"
   ]
  },
  {
   "cell_type": "code",
   "execution_count": 2,
   "metadata": {},
   "outputs": [],
   "source": [
    "# Load the data\n",
    "shopping = pd.read_csv('customer_shopping_data.csv')"
   ]
  },
  {
   "cell_type": "code",
   "execution_count": 3,
   "metadata": {},
   "outputs": [
    {
     "data": {
      "text/html": [
       "<div>\n",
       "<style scoped>\n",
       "    .dataframe tbody tr th:only-of-type {\n",
       "        vertical-align: middle;\n",
       "    }\n",
       "\n",
       "    .dataframe tbody tr th {\n",
       "        vertical-align: top;\n",
       "    }\n",
       "\n",
       "    .dataframe thead th {\n",
       "        text-align: right;\n",
       "    }\n",
       "</style>\n",
       "<table border=\"1\" class=\"dataframe\">\n",
       "  <thead>\n",
       "    <tr style=\"text-align: right;\">\n",
       "      <th></th>\n",
       "      <th>invoice_no</th>\n",
       "      <th>customer_id</th>\n",
       "      <th>gender</th>\n",
       "      <th>age</th>\n",
       "      <th>category</th>\n",
       "      <th>quantity</th>\n",
       "      <th>price</th>\n",
       "      <th>payment_method</th>\n",
       "      <th>invoice_date</th>\n",
       "      <th>shopping_mall</th>\n",
       "    </tr>\n",
       "  </thead>\n",
       "  <tbody>\n",
       "    <tr>\n",
       "      <th>0</th>\n",
       "      <td>I138884</td>\n",
       "      <td>C241288</td>\n",
       "      <td>Female</td>\n",
       "      <td>28</td>\n",
       "      <td>Clothing</td>\n",
       "      <td>5</td>\n",
       "      <td>1500.40</td>\n",
       "      <td>Credit Card</td>\n",
       "      <td>8/05/2022</td>\n",
       "      <td>Kanyon</td>\n",
       "    </tr>\n",
       "    <tr>\n",
       "      <th>1</th>\n",
       "      <td>I317333</td>\n",
       "      <td>C111565</td>\n",
       "      <td>Male</td>\n",
       "      <td>21</td>\n",
       "      <td>Shoes</td>\n",
       "      <td>3</td>\n",
       "      <td>1800.51</td>\n",
       "      <td>Debit Card</td>\n",
       "      <td>12/12/2021</td>\n",
       "      <td>Forum Istanbul</td>\n",
       "    </tr>\n",
       "    <tr>\n",
       "      <th>2</th>\n",
       "      <td>I127801</td>\n",
       "      <td>C266599</td>\n",
       "      <td>Male</td>\n",
       "      <td>20</td>\n",
       "      <td>Clothing</td>\n",
       "      <td>1</td>\n",
       "      <td>300.08</td>\n",
       "      <td>Cash</td>\n",
       "      <td>11/09/2021</td>\n",
       "      <td>Metrocity</td>\n",
       "    </tr>\n",
       "  </tbody>\n",
       "</table>\n",
       "</div>"
      ],
      "text/plain": [
       "  invoice_no customer_id  gender  age  category  quantity    price  \\\n",
       "0    I138884     C241288  Female   28  Clothing         5  1500.40   \n",
       "1    I317333     C111565    Male   21     Shoes         3  1800.51   \n",
       "2    I127801     C266599    Male   20  Clothing         1   300.08   \n",
       "\n",
       "  payment_method invoice_date   shopping_mall  \n",
       "0    Credit Card    8/05/2022          Kanyon  \n",
       "1     Debit Card   12/12/2021  Forum Istanbul  \n",
       "2           Cash   11/09/2021       Metrocity  "
      ]
     },
     "execution_count": 3,
     "metadata": {},
     "output_type": "execute_result"
    }
   ],
   "source": [
    "# Display the first 3 rows of the data\n",
    "shopping.head(3)"
   ]
  },
  {
   "cell_type": "code",
   "execution_count": 4,
   "metadata": {},
   "outputs": [
    {
     "data": {
      "text/plain": [
       "(99461, 10)"
      ]
     },
     "execution_count": 4,
     "metadata": {},
     "output_type": "execute_result"
    }
   ],
   "source": [
    "# Display the shape of the data\n",
    "shopping.shape"
   ]
  },
  {
   "cell_type": "code",
   "execution_count": 5,
   "metadata": {},
   "outputs": [
    {
     "data": {
      "text/plain": [
       "invoice_no        99458\n",
       "customer_id       99457\n",
       "gender                3\n",
       "age                  53\n",
       "category             15\n",
       "quantity              5\n",
       "price                41\n",
       "payment_method        6\n",
       "invoice_date        812\n",
       "shopping_mall        11\n",
       "dtype: int64"
      ]
     },
     "execution_count": 5,
     "metadata": {},
     "output_type": "execute_result"
    }
   ],
   "source": [
    "# Display the unique values of the data\n",
    "shopping.nunique()"
   ]
  },
  {
   "cell_type": "code",
   "execution_count": 6,
   "metadata": {},
   "outputs": [
    {
     "name": "stdout",
     "output_type": "stream",
     "text": [
      "<class 'pandas.core.frame.DataFrame'>\n",
      "RangeIndex: 99461 entries, 0 to 99460\n",
      "Data columns (total 10 columns):\n",
      " #   Column          Non-Null Count  Dtype  \n",
      "---  ------          --------------  -----  \n",
      " 0   invoice_no      99461 non-null  object \n",
      " 1   customer_id     99461 non-null  object \n",
      " 2   gender          99461 non-null  object \n",
      " 3   age             99461 non-null  int64  \n",
      " 4   category        99461 non-null  object \n",
      " 5   quantity        99461 non-null  int64  \n",
      " 6   price           99459 non-null  float64\n",
      " 7   payment_method  99460 non-null  object \n",
      " 8   invoice_date    99461 non-null  object \n",
      " 9   shopping_mall   99461 non-null  object \n",
      "dtypes: float64(1), int64(2), object(7)\n",
      "memory usage: 7.6+ MB\n"
     ]
    }
   ],
   "source": [
    "# Display the overall information of the data\n",
    "shopping.info()"
   ]
  },
  {
   "cell_type": "code",
   "execution_count": 7,
   "metadata": {},
   "outputs": [
    {
     "data": {
      "text/html": [
       "<div>\n",
       "<style scoped>\n",
       "    .dataframe tbody tr th:only-of-type {\n",
       "        vertical-align: middle;\n",
       "    }\n",
       "\n",
       "    .dataframe tbody tr th {\n",
       "        vertical-align: top;\n",
       "    }\n",
       "\n",
       "    .dataframe thead th {\n",
       "        text-align: right;\n",
       "    }\n",
       "</style>\n",
       "<table border=\"1\" class=\"dataframe\">\n",
       "  <thead>\n",
       "    <tr style=\"text-align: right;\">\n",
       "      <th></th>\n",
       "      <th>age</th>\n",
       "      <th>quantity</th>\n",
       "      <th>price</th>\n",
       "    </tr>\n",
       "  </thead>\n",
       "  <tbody>\n",
       "    <tr>\n",
       "      <th>count</th>\n",
       "      <td>99461.000000</td>\n",
       "      <td>99461.000000</td>\n",
       "      <td>99459.000000</td>\n",
       "    </tr>\n",
       "    <tr>\n",
       "      <th>mean</th>\n",
       "      <td>43.427796</td>\n",
       "      <td>3.003398</td>\n",
       "      <td>689.253423</td>\n",
       "    </tr>\n",
       "    <tr>\n",
       "      <th>std</th>\n",
       "      <td>14.990849</td>\n",
       "      <td>1.413029</td>\n",
       "      <td>941.195107</td>\n",
       "    </tr>\n",
       "    <tr>\n",
       "      <th>min</th>\n",
       "      <td>18.000000</td>\n",
       "      <td>1.000000</td>\n",
       "      <td>0.990000</td>\n",
       "    </tr>\n",
       "    <tr>\n",
       "      <th>25%</th>\n",
       "      <td>30.000000</td>\n",
       "      <td>2.000000</td>\n",
       "      <td>45.450000</td>\n",
       "    </tr>\n",
       "    <tr>\n",
       "      <th>50%</th>\n",
       "      <td>43.000000</td>\n",
       "      <td>3.000000</td>\n",
       "      <td>203.300000</td>\n",
       "    </tr>\n",
       "    <tr>\n",
       "      <th>75%</th>\n",
       "      <td>56.000000</td>\n",
       "      <td>4.000000</td>\n",
       "      <td>1200.320000</td>\n",
       "    </tr>\n",
       "    <tr>\n",
       "      <th>max</th>\n",
       "      <td>99.000000</td>\n",
       "      <td>5.000000</td>\n",
       "      <td>5250.000000</td>\n",
       "    </tr>\n",
       "  </tbody>\n",
       "</table>\n",
       "</div>"
      ],
      "text/plain": [
       "                age      quantity         price\n",
       "count  99461.000000  99461.000000  99459.000000\n",
       "mean      43.427796      3.003398    689.253423\n",
       "std       14.990849      1.413029    941.195107\n",
       "min       18.000000      1.000000      0.990000\n",
       "25%       30.000000      2.000000     45.450000\n",
       "50%       43.000000      3.000000    203.300000\n",
       "75%       56.000000      4.000000   1200.320000\n",
       "max       99.000000      5.000000   5250.000000"
      ]
     },
     "execution_count": 7,
     "metadata": {},
     "output_type": "execute_result"
    }
   ],
   "source": [
    "# Display the summary statistics of the data\n",
    "shopping.describe()"
   ]
  },
  {
   "cell_type": "markdown",
   "metadata": {},
   "source": [
    "### Handling missing values"
   ]
  },
  {
   "cell_type": "code",
   "execution_count": 8,
   "metadata": {},
   "outputs": [
    {
     "data": {
      "text/plain": [
       "invoice_no        0\n",
       "customer_id       0\n",
       "gender            0\n",
       "age               0\n",
       "category          0\n",
       "quantity          0\n",
       "price             2\n",
       "payment_method    1\n",
       "invoice_date      0\n",
       "shopping_mall     0\n",
       "dtype: int64"
      ]
     },
     "execution_count": 8,
     "metadata": {},
     "output_type": "execute_result"
    }
   ],
   "source": [
    "# Display the missing values of the data\n",
    "shopping.isnull().sum()"
   ]
  },
  {
   "cell_type": "markdown",
   "metadata": {},
   "source": [
    "**Comment:** We can observe that the columns of `price` and `payment_method` have 2 and 1 missing values, respectively."
   ]
  },
  {
   "cell_type": "code",
   "execution_count": 9,
   "metadata": {},
   "outputs": [
    {
     "data": {
      "text/html": [
       "<div>\n",
       "<style scoped>\n",
       "    .dataframe tbody tr th:only-of-type {\n",
       "        vertical-align: middle;\n",
       "    }\n",
       "\n",
       "    .dataframe tbody tr th {\n",
       "        vertical-align: top;\n",
       "    }\n",
       "\n",
       "    .dataframe thead th {\n",
       "        text-align: right;\n",
       "    }\n",
       "</style>\n",
       "<table border=\"1\" class=\"dataframe\">\n",
       "  <thead>\n",
       "    <tr style=\"text-align: right;\">\n",
       "      <th></th>\n",
       "      <th>invoice_no</th>\n",
       "      <th>customer_id</th>\n",
       "      <th>gender</th>\n",
       "      <th>age</th>\n",
       "      <th>category</th>\n",
       "      <th>quantity</th>\n",
       "      <th>price</th>\n",
       "      <th>payment_method</th>\n",
       "      <th>invoice_date</th>\n",
       "      <th>shopping_mall</th>\n",
       "    </tr>\n",
       "  </thead>\n",
       "  <tbody>\n",
       "    <tr>\n",
       "      <th>64</th>\n",
       "      <td>I218590</td>\n",
       "      <td>C224743</td>\n",
       "      <td>Female</td>\n",
       "      <td>29</td>\n",
       "      <td>Cosmetics</td>\n",
       "      <td>4</td>\n",
       "      <td>NaN</td>\n",
       "      <td>Debit Card</td>\n",
       "      <td>5/09/2022</td>\n",
       "      <td>Metropol AVM</td>\n",
       "    </tr>\n",
       "    <tr>\n",
       "      <th>419</th>\n",
       "      <td>I177957</td>\n",
       "      <td>C653357</td>\n",
       "      <td>Male</td>\n",
       "      <td>65</td>\n",
       "      <td>Clothing</td>\n",
       "      <td>4</td>\n",
       "      <td>NaN</td>\n",
       "      <td>Cash</td>\n",
       "      <td>7/04/2021</td>\n",
       "      <td>Cevahir AVM</td>\n",
       "    </tr>\n",
       "  </tbody>\n",
       "</table>\n",
       "</div>"
      ],
      "text/plain": [
       "    invoice_no customer_id  gender  age   category  quantity  price  \\\n",
       "64     I218590     C224743  Female   29  Cosmetics         4    NaN   \n",
       "419    I177957     C653357    Male   65   Clothing         4    NaN   \n",
       "\n",
       "    payment_method invoice_date shopping_mall  \n",
       "64      Debit Card    5/09/2022  Metropol AVM  \n",
       "419           Cash    7/04/2021   Cevahir AVM  "
      ]
     },
     "execution_count": 9,
     "metadata": {},
     "output_type": "execute_result"
    }
   ],
   "source": [
    "# Show the rows with missing values in `price`\n",
    "shopping[shopping['price'].isna()]"
   ]
  },
  {
   "cell_type": "code",
   "execution_count": 10,
   "metadata": {},
   "outputs": [
    {
     "data": {
      "text/html": [
       "<div>\n",
       "<style scoped>\n",
       "    .dataframe tbody tr th:only-of-type {\n",
       "        vertical-align: middle;\n",
       "    }\n",
       "\n",
       "    .dataframe tbody tr th {\n",
       "        vertical-align: top;\n",
       "    }\n",
       "\n",
       "    .dataframe thead th {\n",
       "        text-align: right;\n",
       "    }\n",
       "</style>\n",
       "<table border=\"1\" class=\"dataframe\">\n",
       "  <thead>\n",
       "    <tr style=\"text-align: right;\">\n",
       "      <th></th>\n",
       "      <th>invoice_no</th>\n",
       "      <th>customer_id</th>\n",
       "      <th>gender</th>\n",
       "      <th>age</th>\n",
       "      <th>category</th>\n",
       "      <th>quantity</th>\n",
       "      <th>price</th>\n",
       "      <th>payment_method</th>\n",
       "      <th>invoice_date</th>\n",
       "      <th>shopping_mall</th>\n",
       "    </tr>\n",
       "  </thead>\n",
       "  <tbody>\n",
       "    <tr>\n",
       "      <th>298</th>\n",
       "      <td>I215906</td>\n",
       "      <td>C296862</td>\n",
       "      <td>Male</td>\n",
       "      <td>21</td>\n",
       "      <td>Clothing</td>\n",
       "      <td>4</td>\n",
       "      <td>1200.32</td>\n",
       "      <td>NaN</td>\n",
       "      <td>8/13/2021</td>\n",
       "      <td>Mall of Istanbul</td>\n",
       "    </tr>\n",
       "  </tbody>\n",
       "</table>\n",
       "</div>"
      ],
      "text/plain": [
       "    invoice_no customer_id gender  age  category  quantity    price  \\\n",
       "298    I215906     C296862   Male   21  Clothing         4  1200.32   \n",
       "\n",
       "    payment_method invoice_date     shopping_mall  \n",
       "298            NaN    8/13/2021  Mall of Istanbul  "
      ]
     },
     "execution_count": 10,
     "metadata": {},
     "output_type": "execute_result"
    }
   ],
   "source": [
    "# Show the rows with missing values in `payment_method`\n",
    "shopping[shopping['payment_method'].isna()]"
   ]
  },
  {
   "cell_type": "markdown",
   "metadata": {},
   "source": [
    "**Comment:** As there are only 3 rows with missing values in `price` and `payment_method`, so we can safely remove them"
   ]
  },
  {
   "cell_type": "code",
   "execution_count": 11,
   "metadata": {},
   "outputs": [],
   "source": [
    "# Remove rows with missing values in `price` and `payment_method`\n",
    "shopping.dropna(subset=['price', 'payment_method'], inplace = True)"
   ]
  },
  {
   "cell_type": "code",
   "execution_count": 12,
   "metadata": {},
   "outputs": [
    {
     "data": {
      "text/plain": [
       "invoice_no        0\n",
       "customer_id       0\n",
       "gender            0\n",
       "age               0\n",
       "category          0\n",
       "quantity          0\n",
       "price             0\n",
       "payment_method    0\n",
       "invoice_date      0\n",
       "shopping_mall     0\n",
       "dtype: int64"
      ]
     },
     "execution_count": 12,
     "metadata": {},
     "output_type": "execute_result"
    }
   ],
   "source": [
    "# Check again for missing values\n",
    "shopping.isnull().sum()"
   ]
  },
  {
   "cell_type": "markdown",
   "metadata": {},
   "source": [
    "### Data type conversion"
   ]
  },
  {
   "cell_type": "code",
   "execution_count": 13,
   "metadata": {},
   "outputs": [
    {
     "name": "stdout",
     "output_type": "stream",
     "text": [
      "[ 9 10  5]\n"
     ]
    }
   ],
   "source": [
    "# Calculate the length of each entry in the 'invoice_date' column\n",
    "lengths = shopping['invoice_date'].str.len().unique()\n",
    "print (lengths)"
   ]
  },
  {
   "cell_type": "code",
   "execution_count": 14,
   "metadata": {},
   "outputs": [
    {
     "data": {
      "text/html": [
       "<div>\n",
       "<style scoped>\n",
       "    .dataframe tbody tr th:only-of-type {\n",
       "        vertical-align: middle;\n",
       "    }\n",
       "\n",
       "    .dataframe tbody tr th {\n",
       "        vertical-align: top;\n",
       "    }\n",
       "\n",
       "    .dataframe thead th {\n",
       "        text-align: right;\n",
       "    }\n",
       "</style>\n",
       "<table border=\"1\" class=\"dataframe\">\n",
       "  <thead>\n",
       "    <tr style=\"text-align: right;\">\n",
       "      <th></th>\n",
       "      <th>invoice_no</th>\n",
       "      <th>customer_id</th>\n",
       "      <th>gender</th>\n",
       "      <th>age</th>\n",
       "      <th>category</th>\n",
       "      <th>quantity</th>\n",
       "      <th>price</th>\n",
       "      <th>payment_method</th>\n",
       "      <th>invoice_date</th>\n",
       "      <th>shopping_mall</th>\n",
       "    </tr>\n",
       "  </thead>\n",
       "  <tbody>\n",
       "    <tr>\n",
       "      <th>13</th>\n",
       "      <td>I179802</td>\n",
       "      <td>C312861</td>\n",
       "      <td>Male</td>\n",
       "      <td>25</td>\n",
       "      <td>Clothi</td>\n",
       "      <td>2</td>\n",
       "      <td>600.16</td>\n",
       "      <td>Cash</td>\n",
       "      <td>44882</td>\n",
       "      <td>Cevahir AVM</td>\n",
       "    </tr>\n",
       "    <tr>\n",
       "      <th>30</th>\n",
       "      <td>I161949</td>\n",
       "      <td>C159164</td>\n",
       "      <td>Female</td>\n",
       "      <td>66</td>\n",
       "      <td>Toy</td>\n",
       "      <td>3</td>\n",
       "      <td>107.52</td>\n",
       "      <td>Debit Card</td>\n",
       "      <td>44746</td>\n",
       "      <td>Mall of Istanbul</td>\n",
       "    </tr>\n",
       "    <tr>\n",
       "      <th>49</th>\n",
       "      <td>I304265</td>\n",
       "      <td>C653385</td>\n",
       "      <td>Female</td>\n",
       "      <td>22</td>\n",
       "      <td>Boks</td>\n",
       "      <td>5</td>\n",
       "      <td>75.75</td>\n",
       "      <td>Debit Card</td>\n",
       "      <td>44360</td>\n",
       "      <td>Forum Istanbul</td>\n",
       "    </tr>\n",
       "    <tr>\n",
       "      <th>112</th>\n",
       "      <td>I299820</td>\n",
       "      <td>C820515</td>\n",
       "      <td>Female</td>\n",
       "      <td>22</td>\n",
       "      <td>Boks</td>\n",
       "      <td>3</td>\n",
       "      <td>45.45</td>\n",
       "      <td>Cash</td>\n",
       "      <td>44522</td>\n",
       "      <td>Kanyon</td>\n",
       "    </tr>\n",
       "    <tr>\n",
       "      <th>236</th>\n",
       "      <td>I218385</td>\n",
       "      <td>C290280</td>\n",
       "      <td>Female</td>\n",
       "      <td>51</td>\n",
       "      <td>Toys</td>\n",
       "      <td>1</td>\n",
       "      <td>35.84</td>\n",
       "      <td>Cash</td>\n",
       "      <td>44761</td>\n",
       "      <td>Metrocity</td>\n",
       "    </tr>\n",
       "    <tr>\n",
       "      <th>249</th>\n",
       "      <td>I120948</td>\n",
       "      <td>C340089</td>\n",
       "      <td>Female</td>\n",
       "      <td>54</td>\n",
       "      <td>Shoe</td>\n",
       "      <td>4</td>\n",
       "      <td>2400.68</td>\n",
       "      <td>Debit Card</td>\n",
       "      <td>44416</td>\n",
       "      <td>Mall of Istanbul</td>\n",
       "    </tr>\n",
       "    <tr>\n",
       "      <th>353</th>\n",
       "      <td>I508712</td>\n",
       "      <td>C216619</td>\n",
       "      <td>Female</td>\n",
       "      <td>64</td>\n",
       "      <td>Toys</td>\n",
       "      <td>3</td>\n",
       "      <td>107.52</td>\n",
       "      <td>Credit Card</td>\n",
       "      <td>44761</td>\n",
       "      <td>Mall Istanbul</td>\n",
       "    </tr>\n",
       "    <tr>\n",
       "      <th>53518</th>\n",
       "      <td>I226929</td>\n",
       "      <td>C185726</td>\n",
       "      <td>Female</td>\n",
       "      <td>43</td>\n",
       "      <td>Cosmetic</td>\n",
       "      <td>3</td>\n",
       "      <td>121.98</td>\n",
       "      <td>Cash</td>\n",
       "      <td>44576</td>\n",
       "      <td>Cevahir AVM</td>\n",
       "    </tr>\n",
       "    <tr>\n",
       "      <th>53519</th>\n",
       "      <td>I303174</td>\n",
       "      <td>C305002</td>\n",
       "      <td>Female</td>\n",
       "      <td>20</td>\n",
       "      <td>Tech</td>\n",
       "      <td>1</td>\n",
       "      <td>1050.00</td>\n",
       "      <td>Cash</td>\n",
       "      <td>44222</td>\n",
       "      <td>Istinye Park</td>\n",
       "    </tr>\n",
       "    <tr>\n",
       "      <th>53539</th>\n",
       "      <td>I291878</td>\n",
       "      <td>C119087</td>\n",
       "      <td>Mal</td>\n",
       "      <td>49</td>\n",
       "      <td>Toys</td>\n",
       "      <td>3</td>\n",
       "      <td>107.52</td>\n",
       "      <td>Cash</td>\n",
       "      <td>44534</td>\n",
       "      <td>Emaar Square Mall</td>\n",
       "    </tr>\n",
       "    <tr>\n",
       "      <th>53606</th>\n",
       "      <td>I565111</td>\n",
       "      <td>C223892</td>\n",
       "      <td>Female</td>\n",
       "      <td>99</td>\n",
       "      <td>Books</td>\n",
       "      <td>1</td>\n",
       "      <td>0.99</td>\n",
       "      <td>##error##</td>\n",
       "      <td>44938</td>\n",
       "      <td>Mall of Istanbul</td>\n",
       "    </tr>\n",
       "    <tr>\n",
       "      <th>76666</th>\n",
       "      <td>I263423</td>\n",
       "      <td>C924731</td>\n",
       "      <td>Female</td>\n",
       "      <td>22</td>\n",
       "      <td>Shoes</td>\n",
       "      <td>3</td>\n",
       "      <td>1800.51</td>\n",
       "      <td>Cash Cash</td>\n",
       "      <td>44513</td>\n",
       "      <td>Viaport Outlet</td>\n",
       "    </tr>\n",
       "    <tr>\n",
       "      <th>76687</th>\n",
       "      <td>I268889</td>\n",
       "      <td>C203420</td>\n",
       "      <td>Female</td>\n",
       "      <td>32</td>\n",
       "      <td>Food &amp; Beverage</td>\n",
       "      <td>3</td>\n",
       "      <td>15.69</td>\n",
       "      <td>CreditCard</td>\n",
       "      <td>44575</td>\n",
       "      <td>Cevahir AVM</td>\n",
       "    </tr>\n",
       "    <tr>\n",
       "      <th>76781</th>\n",
       "      <td>I249649</td>\n",
       "      <td>C167776</td>\n",
       "      <td>Male</td>\n",
       "      <td>23</td>\n",
       "      <td>Food &amp; Beverage</td>\n",
       "      <td>5</td>\n",
       "      <td>26.15</td>\n",
       "      <td>CreditCard</td>\n",
       "      <td>44336</td>\n",
       "      <td>Mall of Istanbul</td>\n",
       "    </tr>\n",
       "    <tr>\n",
       "      <th>99389</th>\n",
       "      <td>I170876</td>\n",
       "      <td>C320288</td>\n",
       "      <td>Male</td>\n",
       "      <td>40</td>\n",
       "      <td>Food</td>\n",
       "      <td>3</td>\n",
       "      <td>15.69</td>\n",
       "      <td>Cash</td>\n",
       "      <td>44787</td>\n",
       "      <td>Metrocity</td>\n",
       "    </tr>\n",
       "    <tr>\n",
       "      <th>99418</th>\n",
       "      <td>I166977</td>\n",
       "      <td>C2061##</td>\n",
       "      <td>Female</td>\n",
       "      <td>34</td>\n",
       "      <td>Cosmetics</td>\n",
       "      <td>5</td>\n",
       "      <td>203.30</td>\n",
       "      <td>Credit Card</td>\n",
       "      <td>44597</td>\n",
       "      <td>Kanyon</td>\n",
       "    </tr>\n",
       "  </tbody>\n",
       "</table>\n",
       "</div>"
      ],
      "text/plain": [
       "      invoice_no customer_id  gender  age         category  quantity    price  \\\n",
       "13       I179802     C312861    Male   25           Clothi         2   600.16   \n",
       "30       I161949     C159164  Female   66              Toy         3   107.52   \n",
       "49       I304265     C653385  Female   22             Boks         5    75.75   \n",
       "112      I299820     C820515  Female   22             Boks         3    45.45   \n",
       "236      I218385     C290280  Female   51             Toys         1    35.84   \n",
       "249      I120948     C340089  Female   54             Shoe         4  2400.68   \n",
       "353      I508712     C216619  Female   64             Toys         3   107.52   \n",
       "53518    I226929     C185726  Female   43         Cosmetic         3   121.98   \n",
       "53519    I303174     C305002  Female   20             Tech         1  1050.00   \n",
       "53539    I291878     C119087     Mal   49             Toys         3   107.52   \n",
       "53606    I565111     C223892  Female   99            Books         1     0.99   \n",
       "76666    I263423     C924731  Female   22            Shoes         3  1800.51   \n",
       "76687    I268889     C203420  Female   32  Food & Beverage         3    15.69   \n",
       "76781    I249649     C167776    Male   23  Food & Beverage         5    26.15   \n",
       "99389    I170876     C320288    Male   40             Food         3    15.69   \n",
       "99418    I166977     C2061##  Female   34        Cosmetics         5   203.30   \n",
       "\n",
       "      payment_method invoice_date      shopping_mall  \n",
       "13              Cash        44882        Cevahir AVM  \n",
       "30        Debit Card        44746   Mall of Istanbul  \n",
       "49        Debit Card        44360     Forum Istanbul  \n",
       "112             Cash        44522             Kanyon  \n",
       "236             Cash        44761          Metrocity  \n",
       "249       Debit Card        44416   Mall of Istanbul  \n",
       "353      Credit Card        44761      Mall Istanbul  \n",
       "53518           Cash        44576        Cevahir AVM  \n",
       "53519           Cash        44222       Istinye Park  \n",
       "53539           Cash        44534  Emaar Square Mall  \n",
       "53606      ##error##        44938   Mall of Istanbul  \n",
       "76666      Cash Cash        44513     Viaport Outlet  \n",
       "76687     CreditCard        44575        Cevahir AVM  \n",
       "76781     CreditCard        44336   Mall of Istanbul  \n",
       "99389           Cash        44787          Metrocity  \n",
       "99418    Credit Card        44597             Kanyon  "
      ]
     },
     "execution_count": 14,
     "metadata": {},
     "output_type": "execute_result"
    }
   ],
   "source": [
    "# Display the rows with 'invoice_date' length less than 6\n",
    "shopping[shopping['invoice_date'].str.len()<6]"
   ]
  },
  {
   "cell_type": "code",
   "execution_count": 15,
   "metadata": {},
   "outputs": [],
   "source": [
    "# We will convert the 'invoice_date' values with length less than 6 to normal date format\n",
    "\n",
    "def convert_date(date_str):\n",
    "    if len(date_str) == 5:\n",
    "        # Convert serial date to datetime\n",
    "        date = pd.to_datetime('1899-12-30') + pd.to_timedelta((int(date_str)),unit='D')\n",
    "        # Format the date as MM/DD/YYYY\n",
    "        return date.strftime('%m/%d/%Y')\n",
    "    else:\n",
    "        return date_str\n",
    "\n",
    "shopping['invoice_date'] = shopping['invoice_date'].apply(convert_date)"
   ]
  },
  {
   "cell_type": "code",
   "execution_count": 16,
   "metadata": {},
   "outputs": [],
   "source": [
    "# Convert the 'invoice_date' column to datetime\n",
    "shopping['invoice_date'] = pd.to_datetime(shopping['invoice_date'], format = 'mixed', errors = 'coerce')"
   ]
  },
  {
   "cell_type": "code",
   "execution_count": 17,
   "metadata": {},
   "outputs": [],
   "source": [
    "# Extract the month and year from the 'invoice_date' column\n",
    "shopping['month'] = shopping['invoice_date'].dt.month\n",
    "shopping['year'] = shopping['invoice_date'].dt.year\n",
    "shopping['month_year'] = shopping['invoice_date'].dt.to_period('M').astype(str)"
   ]
  },
  {
   "cell_type": "markdown",
   "metadata": {},
   "source": [
    "### Handling format and wrong entries"
   ]
  },
  {
   "cell_type": "markdown",
   "metadata": {},
   "source": [
    "#### `gender`"
   ]
  },
  {
   "cell_type": "code",
   "execution_count": 18,
   "metadata": {},
   "outputs": [
    {
     "data": {
      "text/plain": [
       "gender\n",
       "Female    59484\n",
       "Male      39973\n",
       "Mal           1\n",
       "Name: count, dtype: int64"
      ]
     },
     "execution_count": 18,
     "metadata": {},
     "output_type": "execute_result"
    }
   ],
   "source": [
    "# Check the values of `gender`\n",
    "shopping['gender'].value_counts()"
   ]
  },
  {
   "cell_type": "code",
   "execution_count": 19,
   "metadata": {},
   "outputs": [],
   "source": [
    "# Fix the entry of 'Mal'\n",
    "gender_correction = {'Mal':'Male'}\n",
    "shopping['gender'] = shopping['gender'].replace(gender_correction)"
   ]
  },
  {
   "cell_type": "code",
   "execution_count": 20,
   "metadata": {},
   "outputs": [
    {
     "data": {
      "text/plain": [
       "gender\n",
       "Female    59484\n",
       "Male      39974\n",
       "Name: count, dtype: int64"
      ]
     },
     "execution_count": 20,
     "metadata": {},
     "output_type": "execute_result"
    }
   ],
   "source": [
    "shopping['gender'].value_counts()"
   ]
  },
  {
   "cell_type": "markdown",
   "metadata": {},
   "source": [
    "#### `category`"
   ]
  },
  {
   "cell_type": "code",
   "execution_count": 21,
   "metadata": {},
   "outputs": [
    {
     "data": {
      "text/plain": [
       "category\n",
       "Clothing           34484\n",
       "Cosmetics          15095\n",
       "Food & Beverage    14776\n",
       "Toys               10087\n",
       "Shoes              10034\n",
       "Souvenir            4999\n",
       "Technology          4995\n",
       "Books               4980\n",
       "Boks                   2\n",
       "Clothi                 1\n",
       "Toy                    1\n",
       "Shoe                   1\n",
       "Cosmetic               1\n",
       "Tech                   1\n",
       "Food                   1\n",
       "Name: count, dtype: int64"
      ]
     },
     "execution_count": 21,
     "metadata": {},
     "output_type": "execute_result"
    }
   ],
   "source": [
    "# Check the values of `category`\n",
    "shopping['category'].value_counts()"
   ]
  },
  {
   "cell_type": "markdown",
   "metadata": {},
   "source": [
    "**Comment:** The results above indicate the the column of `category` has several misspelled name"
   ]
  },
  {
   "cell_type": "code",
   "execution_count": 22,
   "metadata": {},
   "outputs": [],
   "source": [
    "# Fix the entries of 'Clothi', 'Boks', 'Toy', 'Shoe', 'Cosmetic', 'Tech', 'Food'\n",
    "category_correction = {'Clothi':'Clothing', 'Boks':'Books', 'Toy':'Toys','Shoe':'Shoes','Cosmetic':'Cosmetics', 'Tech':'Technology','Food':'Food & Beverage'}\n",
    "shopping['category'] = shopping['category'].replace(category_correction)"
   ]
  },
  {
   "cell_type": "markdown",
   "metadata": {},
   "source": [
    "#### `payment_method`"
   ]
  },
  {
   "cell_type": "code",
   "execution_count": 23,
   "metadata": {},
   "outputs": [
    {
     "data": {
      "text/plain": [
       "payment_method\n",
       "Cash           44447\n",
       "Credit Card    34929\n",
       "Debit Card     20078\n",
       "CreditCard         2\n",
       "##error##          1\n",
       "Cash Cash          1\n",
       "Name: count, dtype: int64"
      ]
     },
     "execution_count": 23,
     "metadata": {},
     "output_type": "execute_result"
    }
   ],
   "source": [
    "# Check the values of `payment_method`\n",
    "shopping['payment_method'].value_counts()"
   ]
  },
  {
   "cell_type": "markdown",
   "metadata": {},
   "source": [
    "**Comment:** We will correct the mispelled names of the payment method, and `##error##` will be replaced by `Cash` as it is the most common payment method."
   ]
  },
  {
   "cell_type": "code",
   "execution_count": 24,
   "metadata": {},
   "outputs": [],
   "source": [
    "# Fix the entries of `payment_method`\n",
    "payment_correction = {'CreditCard':'Credit Card', '##error##':'Cash', 'Cash Cash':'Cash'}\n",
    "shopping['payment_method'] = shopping['payment_method'].replace(payment_correction)"
   ]
  },
  {
   "cell_type": "markdown",
   "metadata": {},
   "source": [
    "#### `shopping_mall`"
   ]
  },
  {
   "cell_type": "code",
   "execution_count": 25,
   "metadata": {},
   "outputs": [
    {
     "data": {
      "text/plain": [
       "shopping_mall\n",
       "Mall of Istanbul     19943\n",
       "Kanyon               19823\n",
       "Metrocity            15013\n",
       "Metropol AVM         10160\n",
       "Istinye Park          9781\n",
       "Zorlu Center          5075\n",
       "Cevahir AVM           4990\n",
       "Forum Istanbul        4947\n",
       "Viaport Outlet        4914\n",
       "Emaar Square Mall     4811\n",
       "Mall Istanbul            1\n",
       "Name: count, dtype: int64"
      ]
     },
     "execution_count": 25,
     "metadata": {},
     "output_type": "execute_result"
    }
   ],
   "source": [
    "# Check the values of `shopping_mall`\n",
    "shopping['shopping_mall'].value_counts()"
   ]
  },
  {
   "cell_type": "markdown",
   "metadata": {},
   "source": [
    "**Comment:** The results indicate that shopping malls have one mismatched entry: Mall Istanbul"
   ]
  },
  {
   "cell_type": "code",
   "execution_count": 26,
   "metadata": {},
   "outputs": [],
   "source": [
    "# Fix the entries of `shopping_mall`\n",
    "mall_correction = {'Mall Istanbul': 'Mall of Istanbul'}\n",
    "shopping['shopping_mall'] = shopping['shopping_mall'].replace(mall_correction)"
   ]
  },
  {
   "cell_type": "markdown",
   "metadata": {},
   "source": [
    "#### `invoice_no`"
   ]
  },
  {
   "cell_type": "code",
   "execution_count": 27,
   "metadata": {},
   "outputs": [
    {
     "name": "stdout",
     "output_type": "stream",
     "text": [
      "Empty DataFrame\n",
      "Columns: [invoice_no, customer_id, gender, age, category, quantity, price, payment_method, invoice_date, shopping_mall, month, year, month_year]\n",
      "Index: []\n"
     ]
    }
   ],
   "source": [
    "#  Check if invoice_no starts with 'I' and is followed by 6 digits\n",
    "def check_invoice_no(invoice_no):\n",
    "    pattern = r'^I\\d{6}$'\n",
    "    if re.match(pattern, invoice_no):\n",
    "        return True\n",
    "    else:\n",
    "        return False\n",
    "\n",
    "# Apply the function to the 'invoice_no' column\n",
    "invalid_invoice = shopping[~shopping['invoice_no'].apply(check_invoice_no)]\n",
    "\n",
    "print(invalid_invoice)"
   ]
  },
  {
   "cell_type": "markdown",
   "metadata": {},
   "source": [
    "**Comment:** The results suggest that the column of invoice_no has a pattern of 'I' and 6 digits"
   ]
  },
  {
   "cell_type": "markdown",
   "metadata": {},
   "source": [
    "#### `customer_id`"
   ]
  },
  {
   "cell_type": "code",
   "execution_count": 28,
   "metadata": {},
   "outputs": [
    {
     "data": {
      "text/html": [
       "<div>\n",
       "<style scoped>\n",
       "    .dataframe tbody tr th:only-of-type {\n",
       "        vertical-align: middle;\n",
       "    }\n",
       "\n",
       "    .dataframe tbody tr th {\n",
       "        vertical-align: top;\n",
       "    }\n",
       "\n",
       "    .dataframe thead th {\n",
       "        text-align: right;\n",
       "    }\n",
       "</style>\n",
       "<table border=\"1\" class=\"dataframe\">\n",
       "  <thead>\n",
       "    <tr style=\"text-align: right;\">\n",
       "      <th></th>\n",
       "      <th>invoice_no</th>\n",
       "      <th>customer_id</th>\n",
       "      <th>gender</th>\n",
       "      <th>age</th>\n",
       "      <th>category</th>\n",
       "      <th>quantity</th>\n",
       "      <th>price</th>\n",
       "      <th>payment_method</th>\n",
       "      <th>invoice_date</th>\n",
       "      <th>shopping_mall</th>\n",
       "      <th>month</th>\n",
       "      <th>year</th>\n",
       "      <th>month_year</th>\n",
       "    </tr>\n",
       "  </thead>\n",
       "  <tbody>\n",
       "    <tr>\n",
       "      <th>99418</th>\n",
       "      <td>I166977</td>\n",
       "      <td>C2061##</td>\n",
       "      <td>Female</td>\n",
       "      <td>34</td>\n",
       "      <td>Cosmetics</td>\n",
       "      <td>5</td>\n",
       "      <td>203.3</td>\n",
       "      <td>Credit Card</td>\n",
       "      <td>2022-02-05</td>\n",
       "      <td>Kanyon</td>\n",
       "      <td>2</td>\n",
       "      <td>2022</td>\n",
       "      <td>2022-02</td>\n",
       "    </tr>\n",
       "  </tbody>\n",
       "</table>\n",
       "</div>"
      ],
      "text/plain": [
       "      invoice_no customer_id  gender  age   category  quantity  price  \\\n",
       "99418    I166977     C2061##  Female   34  Cosmetics         5  203.3   \n",
       "\n",
       "      payment_method invoice_date shopping_mall  month  year month_year  \n",
       "99418    Credit Card   2022-02-05        Kanyon      2  2022    2022-02  "
      ]
     },
     "execution_count": 28,
     "metadata": {},
     "output_type": "execute_result"
    }
   ],
   "source": [
    "#  Check if customer_id starts with 'C' and is followed by 6 digits\n",
    "def check_customer_id(customer_id):\n",
    "    pattern = r'^C\\d{6}$'\n",
    "    if re.match(pattern, customer_id):\n",
    "        return True\n",
    "    else:\n",
    "        return False\n",
    "\n",
    "# Apply the function to the 'customer_id' column\n",
    "invalid_customer_id = shopping[~shopping['customer_id'].apply(check_customer_id)]\n",
    "\n",
    "invalid_customer_id"
   ]
  },
  {
   "cell_type": "markdown",
   "metadata": {},
   "source": [
    "**Comment:** We decide to keep the record with the invalid `customer_id` \"C2061##\" because other relevant information such as gender, age, category, quantity, price, and payment method is still available and valuable for analysis."
   ]
  },
  {
   "cell_type": "markdown",
   "metadata": {},
   "source": [
    "### Duplicate records"
   ]
  },
  {
   "cell_type": "code",
   "execution_count": 29,
   "metadata": {},
   "outputs": [
    {
     "data": {
      "text/html": [
       "<div>\n",
       "<style scoped>\n",
       "    .dataframe tbody tr th:only-of-type {\n",
       "        vertical-align: middle;\n",
       "    }\n",
       "\n",
       "    .dataframe tbody tr th {\n",
       "        vertical-align: top;\n",
       "    }\n",
       "\n",
       "    .dataframe thead th {\n",
       "        text-align: right;\n",
       "    }\n",
       "</style>\n",
       "<table border=\"1\" class=\"dataframe\">\n",
       "  <thead>\n",
       "    <tr style=\"text-align: right;\">\n",
       "      <th></th>\n",
       "      <th>invoice_no</th>\n",
       "      <th>customer_id</th>\n",
       "      <th>gender</th>\n",
       "      <th>age</th>\n",
       "      <th>category</th>\n",
       "      <th>quantity</th>\n",
       "      <th>price</th>\n",
       "      <th>payment_method</th>\n",
       "      <th>invoice_date</th>\n",
       "      <th>shopping_mall</th>\n",
       "      <th>month</th>\n",
       "      <th>year</th>\n",
       "      <th>month_year</th>\n",
       "    </tr>\n",
       "  </thead>\n",
       "  <tbody>\n",
       "    <tr>\n",
       "      <th>236</th>\n",
       "      <td>I218385</td>\n",
       "      <td>C290280</td>\n",
       "      <td>Female</td>\n",
       "      <td>51</td>\n",
       "      <td>Toys</td>\n",
       "      <td>1</td>\n",
       "      <td>35.84</td>\n",
       "      <td>Cash</td>\n",
       "      <td>2022-07-19</td>\n",
       "      <td>Metrocity</td>\n",
       "      <td>7</td>\n",
       "      <td>2022</td>\n",
       "      <td>2022-07</td>\n",
       "    </tr>\n",
       "    <tr>\n",
       "      <th>237</th>\n",
       "      <td>I218385</td>\n",
       "      <td>C290280</td>\n",
       "      <td>Female</td>\n",
       "      <td>51</td>\n",
       "      <td>Toys</td>\n",
       "      <td>1</td>\n",
       "      <td>35.84</td>\n",
       "      <td>Cash</td>\n",
       "      <td>2022-07-19</td>\n",
       "      <td>Metrocity</td>\n",
       "      <td>7</td>\n",
       "      <td>2022</td>\n",
       "      <td>2022-07</td>\n",
       "    </tr>\n",
       "    <tr>\n",
       "      <th>249</th>\n",
       "      <td>I120948</td>\n",
       "      <td>C340089</td>\n",
       "      <td>Female</td>\n",
       "      <td>54</td>\n",
       "      <td>Shoes</td>\n",
       "      <td>4</td>\n",
       "      <td>2400.68</td>\n",
       "      <td>Debit Card</td>\n",
       "      <td>2021-08-08</td>\n",
       "      <td>Mall of Istanbul</td>\n",
       "      <td>8</td>\n",
       "      <td>2021</td>\n",
       "      <td>2021-08</td>\n",
       "    </tr>\n",
       "    <tr>\n",
       "      <th>250</th>\n",
       "      <td>I120948</td>\n",
       "      <td>C340089</td>\n",
       "      <td>Female</td>\n",
       "      <td>54</td>\n",
       "      <td>Shoes</td>\n",
       "      <td>4</td>\n",
       "      <td>2400.68</td>\n",
       "      <td>Debit Card</td>\n",
       "      <td>2021-08-08</td>\n",
       "      <td>Mall of Istanbul</td>\n",
       "      <td>8</td>\n",
       "      <td>2021</td>\n",
       "      <td>2021-08</td>\n",
       "    </tr>\n",
       "    <tr>\n",
       "      <th>99389</th>\n",
       "      <td>I170876</td>\n",
       "      <td>C320288</td>\n",
       "      <td>Male</td>\n",
       "      <td>40</td>\n",
       "      <td>Food &amp; Beverage</td>\n",
       "      <td>3</td>\n",
       "      <td>15.69</td>\n",
       "      <td>Cash</td>\n",
       "      <td>2022-08-14</td>\n",
       "      <td>Metrocity</td>\n",
       "      <td>8</td>\n",
       "      <td>2022</td>\n",
       "      <td>2022-08</td>\n",
       "    </tr>\n",
       "    <tr>\n",
       "      <th>99390</th>\n",
       "      <td>I170876</td>\n",
       "      <td>C320288</td>\n",
       "      <td>Male</td>\n",
       "      <td>40</td>\n",
       "      <td>Food &amp; Beverage</td>\n",
       "      <td>3</td>\n",
       "      <td>15.69</td>\n",
       "      <td>Cash</td>\n",
       "      <td>2022-08-14</td>\n",
       "      <td>Metrocity</td>\n",
       "      <td>8</td>\n",
       "      <td>2022</td>\n",
       "      <td>2022-08</td>\n",
       "    </tr>\n",
       "  </tbody>\n",
       "</table>\n",
       "</div>"
      ],
      "text/plain": [
       "      invoice_no customer_id  gender  age         category  quantity    price  \\\n",
       "236      I218385     C290280  Female   51             Toys         1    35.84   \n",
       "237      I218385     C290280  Female   51             Toys         1    35.84   \n",
       "249      I120948     C340089  Female   54            Shoes         4  2400.68   \n",
       "250      I120948     C340089  Female   54            Shoes         4  2400.68   \n",
       "99389    I170876     C320288    Male   40  Food & Beverage         3    15.69   \n",
       "99390    I170876     C320288    Male   40  Food & Beverage         3    15.69   \n",
       "\n",
       "      payment_method invoice_date     shopping_mall  month  year month_year  \n",
       "236             Cash   2022-07-19         Metrocity      7  2022    2022-07  \n",
       "237             Cash   2022-07-19         Metrocity      7  2022    2022-07  \n",
       "249       Debit Card   2021-08-08  Mall of Istanbul      8  2021    2021-08  \n",
       "250       Debit Card   2021-08-08  Mall of Istanbul      8  2021    2021-08  \n",
       "99389           Cash   2022-08-14         Metrocity      8  2022    2022-08  \n",
       "99390           Cash   2022-08-14         Metrocity      8  2022    2022-08  "
      ]
     },
     "execution_count": 29,
     "metadata": {},
     "output_type": "execute_result"
    }
   ],
   "source": [
    "# Check the duplicate records by `invoice_no`` and `customer_id`\n",
    "duplicates = shopping[shopping.duplicated(subset=['invoice_no', 'customer_id'], keep=False)]\n",
    "duplicates"
   ]
  },
  {
   "cell_type": "markdown",
   "metadata": {},
   "source": [
    "**Comment:** For each pair of `invoice_no` and `customer_id`, we can observe the duplicate in the recorded transactions, so we are going to keep the first record of each and remove the corresponding duplicates."
   ]
  },
  {
   "cell_type": "code",
   "execution_count": 30,
   "metadata": {},
   "outputs": [],
   "source": [
    "# Drop the duplicate records\n",
    "shopping.drop_duplicates(subset=['invoice_no', 'customer_id'], keep='first', inplace=True)"
   ]
  },
  {
   "cell_type": "code",
   "execution_count": 31,
   "metadata": {},
   "outputs": [
    {
     "data": {
      "text/html": [
       "<div>\n",
       "<style scoped>\n",
       "    .dataframe tbody tr th:only-of-type {\n",
       "        vertical-align: middle;\n",
       "    }\n",
       "\n",
       "    .dataframe tbody tr th {\n",
       "        vertical-align: top;\n",
       "    }\n",
       "\n",
       "    .dataframe thead th {\n",
       "        text-align: right;\n",
       "    }\n",
       "</style>\n",
       "<table border=\"1\" class=\"dataframe\">\n",
       "  <thead>\n",
       "    <tr style=\"text-align: right;\">\n",
       "      <th></th>\n",
       "      <th>invoice_no</th>\n",
       "      <th>customer_id</th>\n",
       "      <th>gender</th>\n",
       "      <th>age</th>\n",
       "      <th>category</th>\n",
       "      <th>quantity</th>\n",
       "      <th>price</th>\n",
       "      <th>payment_method</th>\n",
       "      <th>invoice_date</th>\n",
       "      <th>shopping_mall</th>\n",
       "      <th>month</th>\n",
       "      <th>year</th>\n",
       "      <th>month_year</th>\n",
       "    </tr>\n",
       "  </thead>\n",
       "  <tbody>\n",
       "  </tbody>\n",
       "</table>\n",
       "</div>"
      ],
      "text/plain": [
       "Empty DataFrame\n",
       "Columns: [invoice_no, customer_id, gender, age, category, quantity, price, payment_method, invoice_date, shopping_mall, month, year, month_year]\n",
       "Index: []"
      ]
     },
     "execution_count": 31,
     "metadata": {},
     "output_type": "execute_result"
    }
   ],
   "source": [
    "# Check the duplicate records by 'invoice_no' only\n",
    "duplicates_invoice = shopping[shopping.duplicated(subset=['invoice_no'], keep=False)]\n",
    "duplicates_invoice"
   ]
  },
  {
   "cell_type": "markdown",
   "metadata": {},
   "source": [
    "**Comment:** There is no duplicate if we check the data by `invoice_id` only"
   ]
  },
  {
   "cell_type": "code",
   "execution_count": 32,
   "metadata": {},
   "outputs": [
    {
     "data": {
      "text/html": [
       "<div>\n",
       "<style scoped>\n",
       "    .dataframe tbody tr th:only-of-type {\n",
       "        vertical-align: middle;\n",
       "    }\n",
       "\n",
       "    .dataframe tbody tr th {\n",
       "        vertical-align: top;\n",
       "    }\n",
       "\n",
       "    .dataframe thead th {\n",
       "        text-align: right;\n",
       "    }\n",
       "</style>\n",
       "<table border=\"1\" class=\"dataframe\">\n",
       "  <thead>\n",
       "    <tr style=\"text-align: right;\">\n",
       "      <th></th>\n",
       "      <th>invoice_no</th>\n",
       "      <th>customer_id</th>\n",
       "      <th>gender</th>\n",
       "      <th>age</th>\n",
       "      <th>category</th>\n",
       "      <th>quantity</th>\n",
       "      <th>price</th>\n",
       "      <th>payment_method</th>\n",
       "      <th>invoice_date</th>\n",
       "      <th>shopping_mall</th>\n",
       "      <th>month</th>\n",
       "      <th>year</th>\n",
       "      <th>month_year</th>\n",
       "    </tr>\n",
       "  </thead>\n",
       "  <tbody>\n",
       "    <tr>\n",
       "      <th>53605</th>\n",
       "      <td>I565442</td>\n",
       "      <td>C223892</td>\n",
       "      <td>Female</td>\n",
       "      <td>51</td>\n",
       "      <td>Books</td>\n",
       "      <td>2</td>\n",
       "      <td>30.30</td>\n",
       "      <td>Debit Card</td>\n",
       "      <td>2023-01-12</td>\n",
       "      <td>Emaar Square Mall</td>\n",
       "      <td>1</td>\n",
       "      <td>2023</td>\n",
       "      <td>2023-01</td>\n",
       "    </tr>\n",
       "    <tr>\n",
       "      <th>53606</th>\n",
       "      <td>I565111</td>\n",
       "      <td>C223892</td>\n",
       "      <td>Female</td>\n",
       "      <td>99</td>\n",
       "      <td>Books</td>\n",
       "      <td>1</td>\n",
       "      <td>0.99</td>\n",
       "      <td>Cash</td>\n",
       "      <td>2023-01-12</td>\n",
       "      <td>Mall of Istanbul</td>\n",
       "      <td>1</td>\n",
       "      <td>2023</td>\n",
       "      <td>2023-01</td>\n",
       "    </tr>\n",
       "  </tbody>\n",
       "</table>\n",
       "</div>"
      ],
      "text/plain": [
       "      invoice_no customer_id  gender  age category  quantity  price  \\\n",
       "53605    I565442     C223892  Female   51    Books         2  30.30   \n",
       "53606    I565111     C223892  Female   99    Books         1   0.99   \n",
       "\n",
       "      payment_method invoice_date      shopping_mall  month  year month_year  \n",
       "53605     Debit Card   2023-01-12  Emaar Square Mall      1  2023    2023-01  \n",
       "53606           Cash   2023-01-12   Mall of Istanbul      1  2023    2023-01  "
      ]
     },
     "execution_count": 32,
     "metadata": {},
     "output_type": "execute_result"
    }
   ],
   "source": [
    "# Check the duplicate records by 'customer_id' only\n",
    "duplicates_customer_id = shopping[shopping.duplicated(subset=['customer_id'], keep=False)]\n",
    "duplicates_customer_id"
   ]
  },
  {
   "cell_type": "markdown",
   "metadata": {},
   "source": [
    "**Comment:** We can observe that, if using `customer_id` as the criteria, there are duplicated records in the dataset. The customer with id = `C223892` is recorded by different personal information of age but with the same other information like gender, category, date of purchase. Thus, we decide to remove the second record as it looks like a wrong entry as well as an outlier because the age is too old compared to the distribution of `age`."
   ]
  },
  {
   "cell_type": "code",
   "execution_count": 33,
   "metadata": {},
   "outputs": [],
   "source": [
    "# Drop the duplicate records found by 'customer_id' only\n",
    "shopping.drop_duplicates(subset=['customer_id'], keep='first', inplace=True)"
   ]
  },
  {
   "cell_type": "markdown",
   "metadata": {},
   "source": [
    "### Histograms to check the data distribution"
   ]
  },
  {
   "cell_type": "code",
   "execution_count": 34,
   "metadata": {},
   "outputs": [
    {
     "data": {
      "image/png": "[encoded data removed]",
      "text/plain": [
       "<Figure size 1800x600 with 3 Axes>"
      ]
     },
     "metadata": {},
     "output_type": "display_data"
    }
   ],
   "source": [
    "# Create histograms for the numerical columns\n",
    "plt.figure(figsize=(18, 6))\n",
    "\n",
    "# Plot for `age`\n",
    "plt.subplot(1,3,1)\n",
    "plt.hist(shopping['age'], bins=10, color='red', edgecolor='black')\n",
    "plt.title('Age Distribution')\n",
    "plt.xlabel('Age')\n",
    "plt.ylabel('Frequency')\n",
    "\n",
    "# Plot for `price`\n",
    "plt.subplot(1,3,2)\n",
    "plt.hist(shopping['price'], bins=10, color='green', edgecolor='black')\n",
    "plt.title('Price Distribution')\n",
    "plt.xlabel('Price')\n",
    "plt.ylabel('Frequency')\n",
    "\n",
    "# Plot for `quantity`\n",
    "plt.subplot(1,3,3)\n",
    "plt.hist(shopping['quantity'], bins=5, color='purple', edgecolor='black')\n",
    "plt.title('Quantity Distribution')\n",
    "plt.xlabel('Quantity')\n",
    "plt.ylabel('Frequency')\n",
    "\n",
    "plt.tight_layout()\n",
    "plt.show()"
   ]
  },
  {
   "cell_type": "code",
   "execution_count": 35,
   "metadata": {},
   "outputs": [
    {
     "name": "stdout",
     "output_type": "stream",
     "text": [
      "Skewness of age: 0.00900338120208084\n",
      "Skewness of quantity: -0.0012423991589802362\n",
      "Skewness of price: 2.24741052225526\n"
     ]
    }
   ],
   "source": [
    "# Calculate the skewness of the numerical columns\n",
    "numerical_columns = ['age', 'quantity', 'price']\n",
    "\n",
    "for col in numerical_columns:\n",
    "    skewness = skew(shopping[col])\n",
    "    print(f'Skewness of {col}: {skewness}')"
   ]
  },
  {
   "cell_type": "markdown",
   "metadata": {},
   "source": [
    "**Skewness of `age`: 0.0090**\n",
    "- The skewness value is close to zero, indicating that the age distribution is approximately symmetric.\n",
    "- The histogram of supports this, showing a roughly uniform distribution with a slight concentration of more values in the middle age groups.\n",
    "\n",
    "**Skewness of `price`: 2.2474**\n",
    "- A positive skewness greater than 1 indicates a highly right-skewed distribution. This means most of the items are at the lower price range, and as the price increases, there are fewer items. This results in a \"tail\" where there are only a few high-priced items compared to the many low-priced ones.\n",
    "- The histogram clearly shows this, with a large concentration of data at the lower end and a sharp drop-off toward higher prices.\n",
    "\n",
    "**Skewness of `quantity`: -0.0012**\n",
    "- The skewness is close to zero, suggesting an approximately symmetrical distribution.\n",
    "- The histogram confirms this by showing an almost perfectly uniform distribution across the quantity values, indicating that each quantity category is equally represented.\n"
   ]
  },
  {
   "cell_type": "markdown",
   "metadata": {},
   "source": [
    "### Outliers"
   ]
  },
  {
   "cell_type": "code",
   "execution_count": 36,
   "metadata": {},
   "outputs": [
    {
     "data": {
      "image/png": "[encoded data removed]",
      "text/plain": [
       "<Figure size 1600x800 with 3 Axes>"
      ]
     },
     "metadata": {},
     "output_type": "display_data"
    },
    {
     "data": {
      "text/html": [
       "<div>\n",
       "<style scoped>\n",
       "    .dataframe tbody tr th:only-of-type {\n",
       "        vertical-align: middle;\n",
       "    }\n",
       "\n",
       "    .dataframe tbody tr th {\n",
       "        vertical-align: top;\n",
       "    }\n",
       "\n",
       "    .dataframe thead th {\n",
       "        text-align: right;\n",
       "    }\n",
       "</style>\n",
       "<table border=\"1\" class=\"dataframe\">\n",
       "  <thead>\n",
       "    <tr style=\"text-align: right;\">\n",
       "      <th></th>\n",
       "      <th>age</th>\n",
       "      <th>price</th>\n",
       "      <th>quantity</th>\n",
       "    </tr>\n",
       "  </thead>\n",
       "  <tbody>\n",
       "    <tr>\n",
       "      <th>count</th>\n",
       "      <td>99454.000000</td>\n",
       "      <td>99454.000000</td>\n",
       "      <td>99454.000000</td>\n",
       "    </tr>\n",
       "    <tr>\n",
       "      <th>mean</th>\n",
       "      <td>43.427243</td>\n",
       "      <td>689.251339</td>\n",
       "      <td>3.003399</td>\n",
       "    </tr>\n",
       "    <tr>\n",
       "      <th>std</th>\n",
       "      <td>14.989885</td>\n",
       "      <td>941.194491</td>\n",
       "      <td>1.413036</td>\n",
       "    </tr>\n",
       "    <tr>\n",
       "      <th>min</th>\n",
       "      <td>18.000000</td>\n",
       "      <td>5.230000</td>\n",
       "      <td>1.000000</td>\n",
       "    </tr>\n",
       "    <tr>\n",
       "      <th>25%</th>\n",
       "      <td>30.000000</td>\n",
       "      <td>45.450000</td>\n",
       "      <td>2.000000</td>\n",
       "    </tr>\n",
       "    <tr>\n",
       "      <th>50%</th>\n",
       "      <td>43.000000</td>\n",
       "      <td>203.300000</td>\n",
       "      <td>3.000000</td>\n",
       "    </tr>\n",
       "    <tr>\n",
       "      <th>75%</th>\n",
       "      <td>56.000000</td>\n",
       "      <td>1200.320000</td>\n",
       "      <td>4.000000</td>\n",
       "    </tr>\n",
       "    <tr>\n",
       "      <th>max</th>\n",
       "      <td>69.000000</td>\n",
       "      <td>5250.000000</td>\n",
       "      <td>5.000000</td>\n",
       "    </tr>\n",
       "  </tbody>\n",
       "</table>\n",
       "</div>"
      ],
      "text/plain": [
       "                age         price      quantity\n",
       "count  99454.000000  99454.000000  99454.000000\n",
       "mean      43.427243    689.251339      3.003399\n",
       "std       14.989885    941.194491      1.413036\n",
       "min       18.000000      5.230000      1.000000\n",
       "25%       30.000000     45.450000      2.000000\n",
       "50%       43.000000    203.300000      3.000000\n",
       "75%       56.000000   1200.320000      4.000000\n",
       "max       69.000000   5250.000000      5.000000"
      ]
     },
     "execution_count": 36,
     "metadata": {},
     "output_type": "execute_result"
    }
   ],
   "source": [
    "# Create boxplots to identify outliers\n",
    "plt.figure(figsize=(16, 8))\n",
    "\n",
    "# Age boxplot\n",
    "plt.subplot(1, 3, 1)\n",
    "plt.boxplot(shopping['age'], patch_artist=True)\n",
    "plt.title('Boxplot of Age')\n",
    "plt.ylabel('Age')\n",
    "\n",
    "# Price boxplot\n",
    "plt.subplot(1, 3, 2)\n",
    "plt.boxplot(shopping['price'], patch_artist=True)\n",
    "plt.title('Boxplot of price')\n",
    "plt.ylabel('Price (TL)')\n",
    "\n",
    "# Quantity boxplot\n",
    "plt.subplot(1, 3, 3)\n",
    "plt.boxplot(shopping['quantity'], patch_artist=True)\n",
    "plt.title('Boxplot of Quantity')\n",
    "plt.ylabel('Quantity (item)')\n",
    "\n",
    "\n",
    "#plt.tight_layout()\n",
    "plt.show()\n",
    "\n",
    "shopping[['age', 'price', 'quantity']].describe()"
   ]
  },
  {
   "cell_type": "markdown",
   "metadata": {},
   "source": [
    "**Age**\n",
    "- The boxplot for age shows a fairly symmetrical distribution.\n",
    "- Most ages are clustered between around 30 and 56, with a median around 43.\n",
    "- There are no significant outliers, and the data reflects a consistent age range.\n",
    "\n",
    "\n",
    "**Price**\n",
    "- The price boxplot also indicates a right-skewed distribution.\n",
    "- The median price is much lower than the upper quartile, which means that most prices are on the lower end.\n",
    "- Several outliers are present, representing higher-priced items.\n",
    "- These outliers occur in categories like shoes and technology, which are typically higher-value products. \n",
    "- Retaining these outliers is important as they represent genuine high-value items and removing them could lead to a loss of valuable information about the market's pricing spectrum.\n",
    "\n",
    "**Quantity**\n",
    "- The quantity distribution appears more uniform, with a wide spread from 1 to 5.\n",
    "- There are no significant outliers, indicating consistent transaction quantity across data.\n",
    "- The majority of data points range between 2 and 4 with the typical purchase quantity at a median value of 3."
   ]
  },
  {
   "cell_type": "code",
   "execution_count": 37,
   "metadata": {},
   "outputs": [
    {
     "name": "stdout",
     "output_type": "stream",
     "text": [
      "25th Percentile of Price: 45.45\n",
      "75th Percentile of Price: 1200.32\n",
      "IQR of Price: 1154.87\n",
      "Lower Bound of Price: -1686.8549999999998\n",
      "Upper Bound of Price: 2932.625\n"
     ]
    }
   ],
   "source": [
    "# For 'Price' column\n",
    "## Calculate 25th and 75th percentiles\n",
    "Q1 = shopping['price'].quantile(0.25)\n",
    "Q3 = shopping['price'].quantile(0.75)\n",
    "\n",
    "print ('25th Percentile of Price:', Q1)\n",
    "print ('75th Percentile of Price:', Q3)\n",
    "\n",
    "## Calculate IQR of 'Price'\n",
    "IQR = Q3 - Q1\n",
    "print ('IQR of Price:', IQR)\n",
    "\n",
    "## Calculate the lower and upper bounds of 'Price'\n",
    "lower_bound = Q1 - 1.5*IQR\n",
    "upper_bound = Q3 + 1.5*IQR\n",
    "\n",
    "print ('Lower Bound of Price:', lower_bound)\n",
    "print ('Upper Bound of Price:', upper_bound)"
   ]
  },
  {
   "cell_type": "code",
   "execution_count": 38,
   "metadata": {},
   "outputs": [
    {
     "name": "stdout",
     "output_type": "stream",
     "text": [
      "Outliers on the Lower End of Price:\n",
      "Empty DataFrame\n",
      "Columns: [invoice_no, customer_id, gender, age, category, quantity, price, payment_method, invoice_date, shopping_mall, month, year, month_year]\n",
      "Index: []\n"
     ]
    }
   ],
   "source": [
    "## Isolate the outliers on the lower end of the 'Price' column\n",
    "outliers_low = shopping[shopping['price'] < lower_bound]\n",
    "print ('Outliers on the Lower End of Price:')\n",
    "print (outliers_low)"
   ]
  },
  {
   "cell_type": "code",
   "execution_count": 39,
   "metadata": {},
   "outputs": [
    {
     "name": "stdout",
     "output_type": "stream",
     "text": [
      "Outliers on the Upper End of Price:\n"
     ]
    },
    {
     "data": {
      "text/html": [
       "<div>\n",
       "<style scoped>\n",
       "    .dataframe tbody tr th:only-of-type {\n",
       "        vertical-align: middle;\n",
       "    }\n",
       "\n",
       "    .dataframe tbody tr th {\n",
       "        vertical-align: top;\n",
       "    }\n",
       "\n",
       "    .dataframe thead th {\n",
       "        text-align: right;\n",
       "    }\n",
       "</style>\n",
       "<table border=\"1\" class=\"dataframe\">\n",
       "  <thead>\n",
       "    <tr style=\"text-align: right;\">\n",
       "      <th></th>\n",
       "      <th>invoice_no</th>\n",
       "      <th>customer_id</th>\n",
       "      <th>gender</th>\n",
       "      <th>age</th>\n",
       "      <th>category</th>\n",
       "      <th>quantity</th>\n",
       "      <th>price</th>\n",
       "      <th>payment_method</th>\n",
       "      <th>invoice_date</th>\n",
       "      <th>shopping_mall</th>\n",
       "      <th>month</th>\n",
       "      <th>year</th>\n",
       "      <th>month_year</th>\n",
       "    </tr>\n",
       "  </thead>\n",
       "  <tbody>\n",
       "    <tr>\n",
       "      <th>3</th>\n",
       "      <td>I173702</td>\n",
       "      <td>C988172</td>\n",
       "      <td>Female</td>\n",
       "      <td>66</td>\n",
       "      <td>Shoes</td>\n",
       "      <td>5</td>\n",
       "      <td>3000.85</td>\n",
       "      <td>Credit Card</td>\n",
       "      <td>2021-05-16</td>\n",
       "      <td>Metropol AVM</td>\n",
       "      <td>5</td>\n",
       "      <td>2021</td>\n",
       "      <td>2021-05</td>\n",
       "    </tr>\n",
       "    <tr>\n",
       "      <th>15</th>\n",
       "      <td>I688768</td>\n",
       "      <td>C362288</td>\n",
       "      <td>Male</td>\n",
       "      <td>24</td>\n",
       "      <td>Shoes</td>\n",
       "      <td>5</td>\n",
       "      <td>3000.85</td>\n",
       "      <td>Credit Card</td>\n",
       "      <td>2021-11-07</td>\n",
       "      <td>Viaport Outlet</td>\n",
       "      <td>11</td>\n",
       "      <td>2021</td>\n",
       "      <td>2021-11</td>\n",
       "    </tr>\n",
       "    <tr>\n",
       "      <th>23</th>\n",
       "      <td>I252275</td>\n",
       "      <td>C313348</td>\n",
       "      <td>Male</td>\n",
       "      <td>44</td>\n",
       "      <td>Technology</td>\n",
       "      <td>5</td>\n",
       "      <td>5250.00</td>\n",
       "      <td>Cash</td>\n",
       "      <td>2021-10-26</td>\n",
       "      <td>Kanyon</td>\n",
       "      <td>10</td>\n",
       "      <td>2021</td>\n",
       "      <td>2021-10</td>\n",
       "    </tr>\n",
       "    <tr>\n",
       "      <th>53</th>\n",
       "      <td>I160777</td>\n",
       "      <td>C626042</td>\n",
       "      <td>Female</td>\n",
       "      <td>43</td>\n",
       "      <td>Technology</td>\n",
       "      <td>4</td>\n",
       "      <td>4200.00</td>\n",
       "      <td>Cash</td>\n",
       "      <td>2022-02-22</td>\n",
       "      <td>Metrocity</td>\n",
       "      <td>2</td>\n",
       "      <td>2022</td>\n",
       "      <td>2022-02</td>\n",
       "    </tr>\n",
       "    <tr>\n",
       "      <th>69</th>\n",
       "      <td>I883721</td>\n",
       "      <td>C236859</td>\n",
       "      <td>Female</td>\n",
       "      <td>44</td>\n",
       "      <td>Technology</td>\n",
       "      <td>5</td>\n",
       "      <td>5250.00</td>\n",
       "      <td>Credit Card</td>\n",
       "      <td>2021-11-19</td>\n",
       "      <td>Mall of Istanbul</td>\n",
       "      <td>11</td>\n",
       "      <td>2021</td>\n",
       "      <td>2021-11</td>\n",
       "    </tr>\n",
       "    <tr>\n",
       "      <th>...</th>\n",
       "      <td>...</td>\n",
       "      <td>...</td>\n",
       "      <td>...</td>\n",
       "      <td>...</td>\n",
       "      <td>...</td>\n",
       "      <td>...</td>\n",
       "      <td>...</td>\n",
       "      <td>...</td>\n",
       "      <td>...</td>\n",
       "      <td>...</td>\n",
       "      <td>...</td>\n",
       "      <td>...</td>\n",
       "      <td>...</td>\n",
       "    </tr>\n",
       "    <tr>\n",
       "      <th>99335</th>\n",
       "      <td>I206967</td>\n",
       "      <td>C232954</td>\n",
       "      <td>Female</td>\n",
       "      <td>53</td>\n",
       "      <td>Shoes</td>\n",
       "      <td>5</td>\n",
       "      <td>3000.85</td>\n",
       "      <td>Credit Card</td>\n",
       "      <td>2022-03-13</td>\n",
       "      <td>Metrocity</td>\n",
       "      <td>3</td>\n",
       "      <td>2022</td>\n",
       "      <td>2022-03</td>\n",
       "    </tr>\n",
       "    <tr>\n",
       "      <th>99377</th>\n",
       "      <td>I221532</td>\n",
       "      <td>C956894</td>\n",
       "      <td>Male</td>\n",
       "      <td>36</td>\n",
       "      <td>Technology</td>\n",
       "      <td>3</td>\n",
       "      <td>3150.00</td>\n",
       "      <td>Credit Card</td>\n",
       "      <td>2021-12-24</td>\n",
       "      <td>Metropol AVM</td>\n",
       "      <td>12</td>\n",
       "      <td>2021</td>\n",
       "      <td>2021-12</td>\n",
       "    </tr>\n",
       "    <tr>\n",
       "      <th>99391</th>\n",
       "      <td>I429361</td>\n",
       "      <td>C258359</td>\n",
       "      <td>Male</td>\n",
       "      <td>33</td>\n",
       "      <td>Technology</td>\n",
       "      <td>3</td>\n",
       "      <td>3150.00</td>\n",
       "      <td>Credit Card</td>\n",
       "      <td>2022-08-01</td>\n",
       "      <td>Kanyon</td>\n",
       "      <td>8</td>\n",
       "      <td>2022</td>\n",
       "      <td>2022-08</td>\n",
       "    </tr>\n",
       "    <tr>\n",
       "      <th>99428</th>\n",
       "      <td>I549710</td>\n",
       "      <td>C541824</td>\n",
       "      <td>Female</td>\n",
       "      <td>34</td>\n",
       "      <td>Technology</td>\n",
       "      <td>3</td>\n",
       "      <td>3150.00</td>\n",
       "      <td>Cash</td>\n",
       "      <td>2021-01-13</td>\n",
       "      <td>Metrocity</td>\n",
       "      <td>1</td>\n",
       "      <td>2021</td>\n",
       "      <td>2021-01</td>\n",
       "    </tr>\n",
       "    <tr>\n",
       "      <th>99459</th>\n",
       "      <td>I702964</td>\n",
       "      <td>C800631</td>\n",
       "      <td>Male</td>\n",
       "      <td>56</td>\n",
       "      <td>Technology</td>\n",
       "      <td>4</td>\n",
       "      <td>4200.00</td>\n",
       "      <td>Cash</td>\n",
       "      <td>2021-03-16</td>\n",
       "      <td>Istinye Park</td>\n",
       "      <td>3</td>\n",
       "      <td>2021</td>\n",
       "      <td>2021-03</td>\n",
       "    </tr>\n",
       "  </tbody>\n",
       "</table>\n",
       "<p>5024 rows × 13 columns</p>\n",
       "</div>"
      ],
      "text/plain": [
       "      invoice_no customer_id  gender  age    category  quantity    price  \\\n",
       "3        I173702     C988172  Female   66       Shoes         5  3000.85   \n",
       "15       I688768     C362288    Male   24       Shoes         5  3000.85   \n",
       "23       I252275     C313348    Male   44  Technology         5  5250.00   \n",
       "53       I160777     C626042  Female   43  Technology         4  4200.00   \n",
       "69       I883721     C236859  Female   44  Technology         5  5250.00   \n",
       "...          ...         ...     ...  ...         ...       ...      ...   \n",
       "99335    I206967     C232954  Female   53       Shoes         5  3000.85   \n",
       "99377    I221532     C956894    Male   36  Technology         3  3150.00   \n",
       "99391    I429361     C258359    Male   33  Technology         3  3150.00   \n",
       "99428    I549710     C541824  Female   34  Technology         3  3150.00   \n",
       "99459    I702964     C800631    Male   56  Technology         4  4200.00   \n",
       "\n",
       "      payment_method invoice_date     shopping_mall  month  year month_year  \n",
       "3        Credit Card   2021-05-16      Metropol AVM      5  2021    2021-05  \n",
       "15       Credit Card   2021-11-07    Viaport Outlet     11  2021    2021-11  \n",
       "23              Cash   2021-10-26            Kanyon     10  2021    2021-10  \n",
       "53              Cash   2022-02-22         Metrocity      2  2022    2022-02  \n",
       "69       Credit Card   2021-11-19  Mall of Istanbul     11  2021    2021-11  \n",
       "...              ...          ...               ...    ...   ...        ...  \n",
       "99335    Credit Card   2022-03-13         Metrocity      3  2022    2022-03  \n",
       "99377    Credit Card   2021-12-24      Metropol AVM     12  2021    2021-12  \n",
       "99391    Credit Card   2022-08-01            Kanyon      8  2022    2022-08  \n",
       "99428           Cash   2021-01-13         Metrocity      1  2021    2021-01  \n",
       "99459           Cash   2021-03-16      Istinye Park      3  2021    2021-03  \n",
       "\n",
       "[5024 rows x 13 columns]"
      ]
     },
     "execution_count": 39,
     "metadata": {},
     "output_type": "execute_result"
    }
   ],
   "source": [
    "## Isolate the outliers on the upper end of the 'Price' column\n",
    "outliers_high = shopping[shopping['price'] > upper_bound]\n",
    "print ('Outliers on the Upper End of Price:')\n",
    "outliers_high"
   ]
  },
  {
   "cell_type": "code",
   "execution_count": 40,
   "metadata": {},
   "outputs": [
    {
     "data": {
      "text/plain": [
       "category    payment_method\n",
       "Shoes       Cash              3000.850000\n",
       "            Credit Card       3000.850000\n",
       "            Debit Card        3000.850000\n",
       "Technology  Cash              4206.240713\n",
       "            Credit Card       4164.226519\n",
       "            Debit Card        4238.082902\n",
       "Name: price, dtype: float64"
      ]
     },
     "execution_count": 40,
     "metadata": {},
     "output_type": "execute_result"
    }
   ],
   "source": [
    "# Display the average price of each category and payment method in outliers of 'Price'\n",
    "mean_price_outliers = outliers_high.groupby(['category','payment_method'])['price'].mean()\n",
    "mean_price_outliers"
   ]
  },
  {
   "cell_type": "markdown",
   "metadata": {},
   "source": [
    "**Comment for `price`**\n",
    "\n",
    "- We have performed a double-check on the rows flagged as outliers in the price column and confirmed that they exclusively belong to the categories \"Shoes\" and \"Technology.\" These categories naturally encompass higher-priced items, such as luxury footwear and advanced tech products.\n",
    "\n",
    "- Thus, these outliers are not anomalies or errors but integral parts of the dataset that accurately reflect the price range in these categories. These high-value transactions provide critical insights into purchasing behaviors and market trends. Therefore, retaining these outliers is essential for our ongoing analyses and ensuring that the dataset accurately represents the diversity in product pricing.\n",
    "\n",
    "- While some common methods suggest replacing outliers with the mean, doing so would misrepresent the true value of premium items. These values offer key insights into consumer preferences and should be preserved to maintain the richness of the dataset."
   ]
  },
  {
   "cell_type": "markdown",
   "metadata": {},
   "source": [
    "## Section 2: Analysis"
   ]
  },
  {
   "cell_type": "markdown",
   "metadata": {},
   "source": [
    "### 1. Target Customer Segments & Categories for Marketing Campaigns (by Total Spending)"
   ]
  },
  {
   "cell_type": "markdown",
   "metadata": {},
   "source": [
    "#### A. Customer Segments for Marketing Campaigns"
   ]
  },
  {
   "cell_type": "markdown",
   "metadata": {},
   "source": [
    "For the purpose of customer segmentation, we will try to classify customers into each generation by their age (USC Libraries, n.d.):\n",
    "\n",
    "- The Baby Boomer Generation – born 1946-1964: 60 to 78 years old\n",
    "- Generation X – born 1965-1979: 45 to 59 years old\n",
    "- Millennials (Generation Y) – born 1980-1994: 30 to 44 years old\n",
    "- Generation Z – born 1995-2012: 12 to 29 years old"
   ]
  },
  {
   "cell_type": "code",
   "execution_count": 41,
   "metadata": {},
   "outputs": [],
   "source": [
    "# Group the data for the 'age' column into 4 categories based on generation:\n",
    "generation_bins = [0, 29, 44, 59, 78]\n",
    "generation_labels = ['Generation Z', 'Generation Y', 'Generation X', 'Baby Boomers']\n",
    "shopping['generation'] = pd.cut(shopping['age'], bins=generation_bins, labels=generation_labels, right=True)"
   ]
  },
  {
   "cell_type": "code",
   "execution_count": 42,
   "metadata": {},
   "outputs": [
    {
     "data": {
      "application/vnd.plotly.v1+json": {
       "config": {
        "plotlyServerURL": "https://plot.ly"
       },
       "data": [
        {
         "branchvalues": "total",
         "customdata": [
          [
           28.76847122
          ],
          [
           19.52091123
          ],
          [
           42.81932157
          ],
          [
           29.056049259999998
          ],
          [
           43.60878263
          ],
          [
           29.632007590000004
          ],
          [
           35.00991004
          ],
          [
           23.080087589999998
          ]
         ],
         "domain": {
          "x": [
           0,
           1
          ],
          "y": [
           0,
           1
          ]
         },
         "hovertemplate": "labels=%{label}<br>total_spending_million_sum=%{value}<br>parent=%{parent}<br>id=%{id}<br>Total Spending (Million ₺)=%{color}<extra></extra>",
         "ids": [
          "Baby Boomers - Female",
          "Baby Boomers - Male",
          "Generation X - Female",
          "Generation X - Male",
          "Generation Y - Female",
          "Generation Y - Male",
          "Generation Z - Female",
          "Generation Z - Male"
         ],
         "labels": [
          "Baby Boomers - Female",
          "Baby Boomers - Male",
          "Generation X - Female",
          "Generation X - Male",
          "Generation Y - Female",
          "Generation Y - Male",
          "Generation Z - Female",
          "Generation Z - Male"
         ],
         "marker": {
          "coloraxis": "coloraxis",
          "colors": [
           28.76847122,
           19.52091123,
           42.81932157,
           29.056049259999998,
           43.60878263,
           29.632007590000004,
           35.00991004,
           23.080087589999998
          ],
          "cornerradius": 5
         },
         "name": "",
         "parents": [
          "",
          "",
          "",
          "",
          "",
          "",
          "",
          ""
         ],
         "textinfo": "label+text",
         "texttemplate": "%{label}<br>%{value:.2f} Million ₺",
         "type": "treemap",
         "values": [
          28.76847122,
          19.52091123,
          42.81932157,
          29.056049259999998,
          43.60878263,
          29.63200759,
          35.00991004,
          23.080087589999998
         ]
        }
       ],
       "layout": {
        "coloraxis": {
         "colorbar": {
          "title": {
           "text": "Total Spending (Million ₺)"
          }
         },
         "colorscale": [
          [
           0,
           "rgb(103,0,31)"
          ],
          [
           0.1,
           "rgb(178,24,43)"
          ],
          [
           0.2,
           "rgb(214,96,77)"
          ],
          [
           0.3,
           "rgb(244,165,130)"
          ],
          [
           0.4,
           "rgb(253,219,199)"
          ],
          [
           0.5,
           "rgb(247,247,247)"
          ],
          [
           0.6,
           "rgb(209,229,240)"
          ],
          [
           0.7,
           "rgb(146,197,222)"
          ],
          [
           0.8,
           "rgb(67,147,195)"
          ],
          [
           0.9,
           "rgb(33,102,172)"
          ],
          [
           1,
           "rgb(5,48,97)"
          ]
         ]
        },
        "height": 600,
        "legend": {
         "tracegroupgap": 0
        },
        "template": {
         "data": {
          "bar": [
           {
            "error_x": {
             "color": "#2a3f5f"
            },
            "error_y": {
             "color": "#2a3f5f"
            },
            "marker": {
             "line": {
              "color": "#E5ECF6",
              "width": 0.5
             },
             "pattern": {
              "fillmode": "overlay",
              "size": 10,
              "solidity": 0.2
             }
            },
            "type": "bar"
           }
          ],
          "barpolar": [
           {
            "marker": {
             "line": {
              "color": "#E5ECF6",
              "width": 0.5
             },
             "pattern": {
              "fillmode": "overlay",
              "size": 10,
              "solidity": 0.2
             }
            },
            "type": "barpolar"
           }
          ],
          "carpet": [
           {
            "aaxis": {
             "endlinecolor": "#2a3f5f",
             "gridcolor": "white",
             "linecolor": "white",
             "minorgridcolor": "white",
             "startlinecolor": "#2a3f5f"
            },
            "baxis": {
             "endlinecolor": "#2a3f5f",
             "gridcolor": "white",
             "linecolor": "white",
             "minorgridcolor": "white",
             "startlinecolor": "#2a3f5f"
            },
            "type": "carpet"
           }
          ],
          "choropleth": [
           {
            "colorbar": {
             "outlinewidth": 0,
             "ticks": ""
            },
            "type": "choropleth"
           }
          ],
          "contour": [
           {
            "colorbar": {
             "outlinewidth": 0,
             "ticks": ""
            },
            "colorscale": [
             [
              0,
              "#0d0887"
             ],
             [
              0.1111111111111111,
              "#46039f"
             ],
             [
              0.2222222222222222,
              "#7201a8"
             ],
             [
              0.3333333333333333,
              "#9c179e"
             ],
             [
              0.4444444444444444,
              "#bd3786"
             ],
             [
              0.5555555555555556,
              "#d8576b"
             ],
             [
              0.6666666666666666,
              "#ed7953"
             ],
             [
              0.7777777777777778,
              "#fb9f3a"
             ],
             [
              0.8888888888888888,
              "#fdca26"
             ],
             [
              1,
              "#f0f921"
             ]
            ],
            "type": "contour"
           }
          ],
          "contourcarpet": [
           {
            "colorbar": {
             "outlinewidth": 0,
             "ticks": ""
            },
            "type": "contourcarpet"
           }
          ],
          "heatmap": [
           {
            "colorbar": {
             "outlinewidth": 0,
             "ticks": ""
            },
            "colorscale": [
             [
              0,
              "#0d0887"
             ],
             [
              0.1111111111111111,
              "#46039f"
             ],
             [
              0.2222222222222222,
              "#7201a8"
             ],
             [
              0.3333333333333333,
              "#9c179e"
             ],
             [
              0.4444444444444444,
              "#bd3786"
             ],
             [
              0.5555555555555556,
              "#d8576b"
             ],
             [
              0.6666666666666666,
              "#ed7953"
             ],
             [
              0.7777777777777778,
              "#fb9f3a"
             ],
             [
              0.8888888888888888,
              "#fdca26"
             ],
             [
              1,
              "#f0f921"
             ]
            ],
            "type": "heatmap"
           }
          ],
          "heatmapgl": [
           {
            "colorbar": {
             "outlinewidth": 0,
             "ticks": ""
            },
            "colorscale": [
             [
              0,
              "#0d0887"
             ],
             [
              0.1111111111111111,
              "#46039f"
             ],
             [
              0.2222222222222222,
              "#7201a8"
             ],
             [
              0.3333333333333333,
              "#9c179e"
             ],
             [
              0.4444444444444444,
              "#bd3786"
             ],
             [
              0.5555555555555556,
              "#d8576b"
             ],
             [
              0.6666666666666666,
              "#ed7953"
             ],
             [
              0.7777777777777778,
              "#fb9f3a"
             ],
             [
              0.8888888888888888,
              "#fdca26"
             ],
             [
              1,
              "#f0f921"
             ]
            ],
            "type": "heatmapgl"
           }
          ],
          "histogram": [
           {
            "marker": {
             "pattern": {
              "fillmode": "overlay",
              "size": 10,
              "solidity": 0.2
             }
            },
            "type": "histogram"
           }
          ],
          "histogram2d": [
           {
            "colorbar": {
             "outlinewidth": 0,
             "ticks": ""
            },
            "colorscale": [
             [
              0,
              "#0d0887"
             ],
             [
              0.1111111111111111,
              "#46039f"
             ],
             [
              0.2222222222222222,
              "#7201a8"
             ],
             [
              0.3333333333333333,
              "#9c179e"
             ],
             [
              0.4444444444444444,
              "#bd3786"
             ],
             [
              0.5555555555555556,
              "#d8576b"
             ],
             [
              0.6666666666666666,
              "#ed7953"
             ],
             [
              0.7777777777777778,
              "#fb9f3a"
             ],
             [
              0.8888888888888888,
              "#fdca26"
             ],
             [
              1,
              "#f0f921"
             ]
            ],
            "type": "histogram2d"
           }
          ],
          "histogram2dcontour": [
           {
            "colorbar": {
             "outlinewidth": 0,
             "ticks": ""
            },
            "colorscale": [
             [
              0,
              "#0d0887"
             ],
             [
              0.1111111111111111,
              "#46039f"
             ],
             [
              0.2222222222222222,
              "#7201a8"
             ],
             [
              0.3333333333333333,
              "#9c179e"
             ],
             [
              0.4444444444444444,
              "#bd3786"
             ],
             [
              0.5555555555555556,
              "#d8576b"
             ],
             [
              0.6666666666666666,
              "#ed7953"
             ],
             [
              0.7777777777777778,
              "#fb9f3a"
             ],
             [
              0.8888888888888888,
              "#fdca26"
             ],
             [
              1,
              "#f0f921"
             ]
            ],
            "type": "histogram2dcontour"
           }
          ],
          "mesh3d": [
           {
            "colorbar": {
             "outlinewidth": 0,
             "ticks": ""
            },
            "type": "mesh3d"
           }
          ],
          "parcoords": [
           {
            "line": {
             "colorbar": {
              "outlinewidth": 0,
              "ticks": ""
             }
            },
            "type": "parcoords"
           }
          ],
          "pie": [
           {
            "automargin": true,
            "type": "pie"
           }
          ],
          "scatter": [
           {
            "fillpattern": {
             "fillmode": "overlay",
             "size": 10,
             "solidity": 0.2
            },
            "type": "scatter"
           }
          ],
          "scatter3d": [
           {
            "line": {
             "colorbar": {
              "outlinewidth": 0,
              "ticks": ""
             }
            },
            "marker": {
             "colorbar": {
              "outlinewidth": 0,
              "ticks": ""
             }
            },
            "type": "scatter3d"
           }
          ],
          "scattercarpet": [
           {
            "marker": {
             "colorbar": {
              "outlinewidth": 0,
              "ticks": ""
             }
            },
            "type": "scattercarpet"
           }
          ],
          "scattergeo": [
           {
            "marker": {
             "colorbar": {
              "outlinewidth": 0,
              "ticks": ""
             }
            },
            "type": "scattergeo"
           }
          ],
          "scattergl": [
           {
            "marker": {
             "colorbar": {
              "outlinewidth": 0,
              "ticks": ""
             }
            },
            "type": "scattergl"
           }
          ],
          "scattermapbox": [
           {
            "marker": {
             "colorbar": {
              "outlinewidth": 0,
              "ticks": ""
             }
            },
            "type": "scattermapbox"
           }
          ],
          "scatterpolar": [
           {
            "marker": {
             "colorbar": {
              "outlinewidth": 0,
              "ticks": ""
             }
            },
            "type": "scatterpolar"
           }
          ],
          "scatterpolargl": [
           {
            "marker": {
             "colorbar": {
              "outlinewidth": 0,
              "ticks": ""
             }
            },
            "type": "scatterpolargl"
           }
          ],
          "scatterternary": [
           {
            "marker": {
             "colorbar": {
              "outlinewidth": 0,
              "ticks": ""
             }
            },
            "type": "scatterternary"
           }
          ],
          "surface": [
           {
            "colorbar": {
             "outlinewidth": 0,
             "ticks": ""
            },
            "colorscale": [
             [
              0,
              "#0d0887"
             ],
             [
              0.1111111111111111,
              "#46039f"
             ],
             [
              0.2222222222222222,
              "#7201a8"
             ],
             [
              0.3333333333333333,
              "#9c179e"
             ],
             [
              0.4444444444444444,
              "#bd3786"
             ],
             [
              0.5555555555555556,
              "#d8576b"
             ],
             [
              0.6666666666666666,
              "#ed7953"
             ],
             [
              0.7777777777777778,
              "#fb9f3a"
             ],
             [
              0.8888888888888888,
              "#fdca26"
             ],
             [
              1,
              "#f0f921"
             ]
            ],
            "type": "surface"
           }
          ],
          "table": [
           {
            "cells": {
             "fill": {
              "color": "#EBF0F8"
             },
             "line": {
              "color": "white"
             }
            },
            "header": {
             "fill": {
              "color": "#C8D4E3"
             },
             "line": {
              "color": "white"
             }
            },
            "type": "table"
           }
          ]
         },
         "layout": {
          "annotationdefaults": {
           "arrowcolor": "#2a3f5f",
           "arrowhead": 0,
           "arrowwidth": 1
          },
          "autotypenumbers": "strict",
          "coloraxis": {
           "colorbar": {
            "outlinewidth": 0,
            "ticks": ""
           }
          },
          "colorscale": {
           "diverging": [
            [
             0,
             "#8e0152"
            ],
            [
             0.1,
             "#c51b7d"
            ],
            [
             0.2,
             "#de77ae"
            ],
            [
             0.3,
             "#f1b6da"
            ],
            [
             0.4,
             "#fde0ef"
            ],
            [
             0.5,
             "#f7f7f7"
            ],
            [
             0.6,
             "#e6f5d0"
            ],
            [
             0.7,
             "#b8e186"
            ],
            [
             0.8,
             "#7fbc41"
            ],
            [
             0.9,
             "#4d9221"
            ],
            [
             1,
             "#276419"
            ]
           ],
           "sequential": [
            [
             0,
             "#0d0887"
            ],
            [
             0.1111111111111111,
             "#46039f"
            ],
            [
             0.2222222222222222,
             "#7201a8"
            ],
            [
             0.3333333333333333,
             "#9c179e"
            ],
            [
             0.4444444444444444,
             "#bd3786"
            ],
            [
             0.5555555555555556,
             "#d8576b"
            ],
            [
             0.6666666666666666,
             "#ed7953"
            ],
            [
             0.7777777777777778,
             "#fb9f3a"
            ],
            [
             0.8888888888888888,
             "#fdca26"
            ],
            [
             1,
             "#f0f921"
            ]
           ],
           "sequentialminus": [
            [
             0,
             "#0d0887"
            ],
            [
             0.1111111111111111,
             "#46039f"
            ],
            [
             0.2222222222222222,
             "#7201a8"
            ],
            [
             0.3333333333333333,
             "#9c179e"
            ],
            [
             0.4444444444444444,
             "#bd3786"
            ],
            [
             0.5555555555555556,
             "#d8576b"
            ],
            [
             0.6666666666666666,
             "#ed7953"
            ],
            [
             0.7777777777777778,
             "#fb9f3a"
            ],
            [
             0.8888888888888888,
             "#fdca26"
            ],
            [
             1,
             "#f0f921"
            ]
           ]
          },
          "colorway": [
           "#636efa",
           "#EF553B",
           "#00cc96",
           "#ab63fa",
           "#FFA15A",
           "#19d3f3",
           "#FF6692",
           "#B6E880",
           "#FF97FF",
           "#FECB52"
          ],
          "font": {
           "color": "#2a3f5f"
          },
          "geo": {
           "bgcolor": "white",
           "lakecolor": "white",
           "landcolor": "#E5ECF6",
           "showlakes": true,
           "showland": true,
           "subunitcolor": "white"
          },
          "hoverlabel": {
           "align": "left"
          },
          "hovermode": "closest",
          "mapbox": {
           "style": "light"
          },
          "paper_bgcolor": "white",
          "plot_bgcolor": "#E5ECF6",
          "polar": {
           "angularaxis": {
            "gridcolor": "white",
            "linecolor": "white",
            "ticks": ""
           },
           "bgcolor": "#E5ECF6",
           "radialaxis": {
            "gridcolor": "white",
            "linecolor": "white",
            "ticks": ""
           }
          },
          "scene": {
           "xaxis": {
            "backgroundcolor": "#E5ECF6",
            "gridcolor": "white",
            "gridwidth": 2,
            "linecolor": "white",
            "showbackground": true,
            "ticks": "",
            "zerolinecolor": "white"
           },
           "yaxis": {
            "backgroundcolor": "#E5ECF6",
            "gridcolor": "white",
            "gridwidth": 2,
            "linecolor": "white",
            "showbackground": true,
            "ticks": "",
            "zerolinecolor": "white"
           },
           "zaxis": {
            "backgroundcolor": "#E5ECF6",
            "gridcolor": "white",
            "gridwidth": 2,
            "linecolor": "white",
            "showbackground": true,
            "ticks": "",
            "zerolinecolor": "white"
           }
          },
          "shapedefaults": {
           "line": {
            "color": "#2a3f5f"
           }
          },
          "ternary": {
           "aaxis": {
            "gridcolor": "white",
            "linecolor": "white",
            "ticks": ""
           },
           "baxis": {
            "gridcolor": "white",
            "linecolor": "white",
            "ticks": ""
           },
           "bgcolor": "#E5ECF6",
           "caxis": {
            "gridcolor": "white",
            "linecolor": "white",
            "ticks": ""
           }
          },
          "title": {
           "x": 0.05
          },
          "xaxis": {
           "automargin": true,
           "gridcolor": "white",
           "linecolor": "white",
           "ticks": "",
           "title": {
            "standoff": 15
           },
           "zerolinecolor": "white",
           "zerolinewidth": 2
          },
          "yaxis": {
           "automargin": true,
           "gridcolor": "white",
           "linecolor": "white",
           "ticks": "",
           "title": {
            "standoff": 15
           },
           "zerolinecolor": "white",
           "zerolinewidth": 2
          }
         }
        },
        "title": {
         "text": "Total Spending Based on Generation and Gender"
        },
        "width": 800
       }
      }
     },
     "metadata": {},
     "output_type": "display_data"
    }
   ],
   "source": [
    "# Compute total spending for each customer by multiplying the price and quantity\n",
    "shopping['total_spending'] = shopping['price'] * shopping['quantity']\n",
    "\n",
    "# Convert total spending to millions\n",
    "shopping['total_spending_million'] = shopping['total_spending'] / 1000000\n",
    "\n",
    "# Group the total spending (millions) based on generation and gender\n",
    "generation_gender_spending = shopping.groupby(['generation', 'gender'], observed=False)['total_spending_million'].sum().reset_index()\n",
    "\n",
    "# Create a combined column for generation and gender\n",
    "generation_gender_spending['generation'] = generation_gender_spending['generation'].astype(str)\n",
    "generation_gender_spending['generation_gender'] = generation_gender_spending['generation'] + ' - ' + generation_gender_spending['gender']\n",
    "\n",
    "# Create a treemap for total spending (millions) by generation and gender\n",
    "fig = px.treemap(generation_gender_spending, path=['generation_gender'], values='total_spending_million',\n",
    "                 color='total_spending_million', color_continuous_scale='RdBu',\n",
    "                 title='Total Spending Based on Generation and Gender',\n",
    "                 labels={'total_spending_million': 'Total Spending (Million ₺)'})\n",
    "\n",
    "fig.update_traces(marker=dict(cornerradius=5), texttemplate='%{label}<br>%{value:.2f} Million ₺', textinfo='label+text')\n",
    "fig.update_layout(width=800, height=600)\n",
    "\n",
    "fig.show()"
   ]
  },
  {
   "cell_type": "markdown",
   "metadata": {},
   "source": [
    "- We choose treemap chart to present a hierarchical view of the total spending across customer groups.\n",
    "- This chart highlights significant spending differences across generations and genders. \n",
    "- Notably, **Generation Y and X females** lead in total spending, emphasizing their buying power.\n",
    "- In contrast, **Baby Boomers - Male** and **Generation Z - Male** customers have the lowest spending, suggesting less emphasis on these groups might be suitable. "
   ]
  },
  {
   "cell_type": "markdown",
   "metadata": {},
   "source": [
    "#### B. Target Categories for Marketing Campaigns"
   ]
  },
  {
   "cell_type": "code",
   "execution_count": 43,
   "metadata": {},
   "outputs": [
    {
     "data": {
      "image/png": "[encoded data removed]",
      "text/plain": [
       "<Figure size 1400x800 with 1 Axes>"
      ]
     },
     "metadata": {},
     "output_type": "display_data"
    }
   ],
   "source": [
    "# Group total spending (millions) based on gender, generation, and category\n",
    "target_category_spending = shopping.groupby(['generation', 'gender', 'category'], observed=False)['total_spending_million'].sum().reset_index()\n",
    "target_category_spending.sort_values(by='total_spending_million', ascending=False,inplace = True)\n",
    "\n",
    "# Create a combined column for generation and gender\n",
    "target_category_spending['generation'] = target_category_spending['generation'].astype(str)\n",
    "target_category_spending['generation_gender'] = target_category_spending['generation'] + ' - ' + target_category_spending['gender']\n",
    "\n",
    "# Create a bar plot for total spending (millions) of generations and genders by category\n",
    "plt.figure(figsize=(14, 8))\n",
    "sns.barplot(data=target_category_spending, x='category', y='total_spending_million', hue='generation_gender')\n",
    "plt.title('Total Spending by Generation, Gender, and Category (Million ₺)')\n",
    "plt.xlabel('Category')\n",
    "plt.ylabel('Total Spending (Million ₺)')\n",
    "\n",
    "plt.xticks(rotation=45)\n",
    "\n",
    "plt.tight_layout()\n",
    "plt.show()"
   ]
  },
  {
   "cell_type": "markdown",
   "metadata": {},
   "source": [
    "**From the plots above, we can note that:**\n",
    "- Clothing is the highest-spending category, followed by shoes and technology. Marketing efforts should focus on these product categories.\n",
    "- Across all generations, females consistently spend more than males in most categories, particularly in clothing, shoes, and technology. Thus, marketing campaigns should prioritize female consumers.\n",
    "- While not the top spenders, Generation Z (male and female customers) shows significant spending in clothing and technology. As this generation's purchasing power is growing, targeted campaigns could cultivate long-term customer loyalty.\n"
   ]
  },
  {
   "cell_type": "markdown",
   "metadata": {},
   "source": [
    "### 2. Spending Behaviour between Genders"
   ]
  },
  {
   "cell_type": "code",
   "execution_count": 44,
   "metadata": {},
   "outputs": [
    {
     "data": {
      "image/png": "[encoded data removed]",
      "text/plain": [
       "<Figure size 1200x600 with 1 Axes>"
      ]
     },
     "metadata": {},
     "output_type": "display_data"
    }
   ],
   "source": [
    "# Create a box plot for total spending between Male and Female\n",
    "plt.figure(figsize=(12, 6))\n",
    "sns.boxplot(x='gender', y='total_spending', data=shopping)\n",
    "plt.title('Distribution of Total Spending by Gender (₺)')\n",
    "plt.xlabel('Gender')\n",
    "plt.ylabel('Total Spending (₺)')\n",
    "plt.show()"
   ]
  },
  {
   "cell_type": "markdown",
   "metadata": {},
   "source": [
    "**Based on the boxplot, we can infer the following about the spending behavior:**\n",
    "- Male and female customers exhibit remarkably similar spending distributions, with nearly identical medians, quartiles, and overall ranges. This suggests that there is not a significant difference in spending behavior between genders.\n",
    "- Both gender categories display several outliers at the upper end of the spending range. These outliers indicate the presence of high-value shoppers across both groups."
   ]
  },
  {
   "cell_type": "markdown",
   "metadata": {},
   "source": [
    "### 3. Relationship between Age and Spending"
   ]
  },
  {
   "cell_type": "code",
   "execution_count": 45,
   "metadata": {},
   "outputs": [
    {
     "data": {
      "image/png": "[encoded data removed]",
      "text/plain": [
       "<Figure size 1400x800 with 1 Axes>"
      ]
     },
     "metadata": {},
     "output_type": "display_data"
    }
   ],
   "source": [
    "# Calculate total spending (millions) by age and category\n",
    "age_category_spending = shopping.groupby(['age', 'category'])['total_spending_million'].sum().reset_index()\n",
    "\n",
    "# Visualize the relationship between age and total spending (millions) for each category\n",
    "plt.figure(figsize=(14, 8))\n",
    "sns.scatterplot(data=age_category_spending, x='age', y='total_spending_million', hue='category', marker='o')\n",
    "plt.title('Total Spending by Age and Category (Million ₺)')\n",
    "plt.xlabel('Age')\n",
    "plt.ylabel('Total Spending (Million ₺)')\n",
    "plt.legend(title='Category')\n",
    "plt.show()"
   ]
  },
  {
   "cell_type": "code",
   "execution_count": 46,
   "metadata": {},
   "outputs": [
    {
     "name": "stdout",
     "output_type": "stream",
     "text": [
      "Category: Books, Correlation: -0.15\n",
      "Category: Clothing, Correlation: 0.03\n",
      "Category: Cosmetics, Correlation: 0.03\n",
      "Category: Food & Beverage, Correlation: -0.13\n",
      "Category: Shoes, Correlation: -0.18\n",
      "Category: Souvenir, Correlation: -0.15\n",
      "Category: Technology, Correlation: 0.09\n",
      "Category: Toys, Correlation: -0.11\n"
     ]
    }
   ],
   "source": [
    "# Compute the correlation coefficient for each category\n",
    "grouped_data = age_category_spending.groupby('category')\n",
    "for category, group in grouped_data:\n",
    "    correlation_coefficient = group['age'].corr(group['total_spending_million'])\n",
    "    print(f\"Category: {category}, Correlation: {correlation_coefficient:.2f}\")"
   ]
  },
  {
   "cell_type": "markdown",
   "metadata": {},
   "source": [
    "**Regarding the relationship between age and spending, we can provide some comments as follows:**\n",
    "- All categories show weak correlations between age and spending, with values ranging from -0.18 to 0.09. This means that age alone is not a strong predictor of spending in any category.\n",
    "- Most categories (Books, Food & Beverage, Shoes, Souvenir, and Toys) show slight negative correlations, indicating a weak tendency for spending to decrease with age in these categories.\n",
    "- Technology has the highest positive correlation (0.09), though still weak. This might indicate a slight trend for older individuals to spend more on technology, possibly due to their higher disposable income.\n",
    "- In contrast, the strongest negative correlation (-0.18) is observed in the Shoes. This result suggests a minor trend of decreased spending on shoes as age increases.\n"
   ]
  },
  {
   "cell_type": "markdown",
   "metadata": {},
   "source": [
    "### 4. Average Spending across Customer Groups"
   ]
  },
  {
   "cell_type": "code",
   "execution_count": 47,
   "metadata": {},
   "outputs": [
    {
     "data": {
      "text/plain": [
       "generation\n",
       "Generation Y    28935\n",
       "Generation X    28436\n",
       "Generation Z    23041\n",
       "Baby Boomers    19042\n",
       "Name: count, dtype: int64"
      ]
     },
     "execution_count": 47,
     "metadata": {},
     "output_type": "execute_result"
    }
   ],
   "source": [
    "# We have already created the 'generation' column in the previous steps\n",
    "shopping['generation'].value_counts()"
   ]
  },
  {
   "cell_type": "code",
   "execution_count": 48,
   "metadata": {},
   "outputs": [
    {
     "data": {
      "image/png": "[encoded data removed]",
      "text/plain": [
       "<Figure size 1200x500 with 1 Axes>"
      ]
     },
     "metadata": {},
     "output_type": "display_data"
    }
   ],
   "source": [
    "# Compute total spending by generation group\n",
    "generation_total_spending = shopping.groupby(['generation'],observed=True)['total_spending_million'].sum().reset_index()\n",
    "\n",
    "# Create a bar plot for total spending by generation group\n",
    "plt.figure(figsize=(12, 5))\n",
    "\n",
    "sns.barplot(x='generation', y='total_spending_million', data=generation_total_spending)\n",
    "plt.title('Total Spending by Generation Group (Million ₺)')\n",
    "plt.xlabel('Generation')\n",
    "plt.ylabel('Total Spending (Million ₺)')\n",
    "\n",
    "plt.show()"
   ]
  },
  {
   "cell_type": "markdown",
   "metadata": {},
   "source": [
    "**Given the information on total spending by generation group, we can see some particular patterns:**\n",
    "- Generation Y (ages 30-44) leads in total spending, possibly due to being in their prime earning years and having significant purchasing power.\n",
    "- Generation X (ages 45-59) is a close second. This is also likely due to established careers and stable income.\n",
    "- Generation Z (ages 12-29) shows lower spending, which could be attributed to being early in their careers or still in education.\n",
    "- Baby Boomers (ages 60+) have the lowest total spending among the groups, which might be due to different lifestyle needs or being past peak earning years."
   ]
  },
  {
   "cell_type": "markdown",
   "metadata": {},
   "source": [
    "## Section 3: Recommendations"
   ]
  },
  {
   "cell_type": "markdown",
   "metadata": {},
   "source": [
    "### 3.1 Sales by Payment Method"
   ]
  },
  {
   "cell_type": "code",
   "execution_count": 49,
   "metadata": {},
   "outputs": [
    {
     "data": {
      "text/html": [
       "<div>\n",
       "<style scoped>\n",
       "    .dataframe tbody tr th:only-of-type {\n",
       "        vertical-align: middle;\n",
       "    }\n",
       "\n",
       "    .dataframe tbody tr th {\n",
       "        vertical-align: top;\n",
       "    }\n",
       "\n",
       "    .dataframe thead th {\n",
       "        text-align: right;\n",
       "    }\n",
       "</style>\n",
       "<table border=\"1\" class=\"dataframe\">\n",
       "  <thead>\n",
       "    <tr style=\"text-align: right;\">\n",
       "      <th></th>\n",
       "      <th>payment_method</th>\n",
       "      <th>total_spending_million</th>\n",
       "      <th>proportion</th>\n",
       "    </tr>\n",
       "  </thead>\n",
       "  <tbody>\n",
       "    <tr>\n",
       "      <th>0</th>\n",
       "      <td>Cash</td>\n",
       "      <td>112.827442</td>\n",
       "      <td>44.86</td>\n",
       "    </tr>\n",
       "    <tr>\n",
       "      <th>1</th>\n",
       "      <td>Credit Card</td>\n",
       "      <td>88.077124</td>\n",
       "      <td>35.02</td>\n",
       "    </tr>\n",
       "    <tr>\n",
       "      <th>2</th>\n",
       "      <td>Debit Card</td>\n",
       "      <td>50.590976</td>\n",
       "      <td>20.12</td>\n",
       "    </tr>\n",
       "  </tbody>\n",
       "</table>\n",
       "</div>"
      ],
      "text/plain": [
       "  payment_method  total_spending_million  proportion\n",
       "0           Cash              112.827442       44.86\n",
       "1    Credit Card               88.077124       35.02\n",
       "2     Debit Card               50.590976       20.12"
      ]
     },
     "execution_count": 49,
     "metadata": {},
     "output_type": "execute_result"
    }
   ],
   "source": [
    "# Compute total spending by payment method\n",
    "sales_by_payment_method = shopping.groupby('payment_method')['total_spending_million'].sum().reset_index()\n",
    "sales_by_payment_method['proportion'] = round((sales_by_payment_method['total_spending_million'] / sales_by_payment_method['total_spending_million'].sum())*100,2)\n",
    "sales_by_payment_method"
   ]
  },
  {
   "cell_type": "code",
   "execution_count": 50,
   "metadata": {},
   "outputs": [
    {
     "data": {
      "image/png": "[encoded data removed]",
      "text/plain": [
       "<Figure size 1000x600 with 1 Axes>"
      ]
     },
     "metadata": {},
     "output_type": "display_data"
    }
   ],
   "source": [
    "# Create a pie chart of total spending by payment method\n",
    "plt.figure(figsize=(10, 6))\n",
    "plt.pie(sales_by_payment_method['total_spending_million'], labels=sales_by_payment_method['payment_method'], autopct='%1.2f%%', startangle=140)\n",
    "plt.title('Proportion of Total Spending by Payment Method')\n",
    "plt.legend(title='Payment Method', loc='upper right')\n",
    "plt.show()"
   ]
  },
  {
   "cell_type": "markdown",
   "metadata": {},
   "source": [
    "**Based on the pie chart above, we can draw several insights into customer preferences for payment methods:**\n",
    "- Cash remains the primary method, accounting for 44.86% of total spending. \n",
    "- Credit cards follow closely at 35.02%, reflecting their appeal for convenience and potential benefits. Debit cards are used least frequently, accounting for 20.12% of transactions. \n",
    "- Notably, combined card payments (credit and debit) marginally surpass cash usage at 55.14%. This slight preference suggests a gradual shift towards electronic payment methods."
   ]
  },
  {
   "cell_type": "markdown",
   "metadata": {},
   "source": [
    "**Given these insights, we might recommend the following strategies:**\n",
    "- Maintain strong cash handling while enhancing electronic payment systems to balance current preferences and future shifts.\n",
    "- Implement a loyalty program with benefits for all payment methods, offering slightly higher rewards for card transactions to encourage electronic payments without discouraging cash users."
   ]
  },
  {
   "cell_type": "markdown",
   "metadata": {},
   "source": [
    "### 3.2 Sales Trend Over Time:\n"
   ]
  },
  {
   "cell_type": "code",
   "execution_count": 51,
   "metadata": {},
   "outputs": [
    {
     "data": {
      "image/png": "[encoded data removed]",
      "text/plain": [
       "<Figure size 1500x400 with 1 Axes>"
      ]
     },
     "metadata": {},
     "output_type": "display_data"
    }
   ],
   "source": [
    "# Calculate the total spending (millions) by month and year\n",
    "sales_over_time = shopping.groupby(['month_year'])['total_spending_million'].sum().reset_index()\n",
    "\n",
    "# Create a line plot for total spending over time (monthly)\n",
    "plt.figure(figsize=(15, 4))\n",
    "sns.lineplot(x='month_year', y='total_spending_million', data=sales_over_time, marker='o')\n",
    "plt.title('Total Spending Over Time (₺)')\n",
    "plt.xlabel('Month')\n",
    "plt.ylabel('Total Spending (Million ₺)')\n",
    "plt.xticks(rotation=45)\n",
    "plt.show()"
   ]
  },
  {
   "cell_type": "markdown",
   "metadata": {},
   "source": [
    "**Comment on sales trend over time:**\n",
    "- The total monthly sales shows fluctuations over time, with no clear linear trend upward or downward until the last data point.\n",
    "- Most of the data points fall between 9 and 10 million ₺, indicating relatively stable sale patterns.\n",
    "- There are noticeable peaks in spending, particularly around July and October of each year, while February is a period experiencing the lowest sales.\n",
    "- A significant anomaly is observed in March 2023, where spending drops dramatically to about 2.5 million, sharply contrasting with previous months' patterns.\n"
   ]
  },
  {
   "cell_type": "markdown",
   "metadata": {},
   "source": [
    "**Given these insights, we could make the following recommendations:**\n",
    "- Leverage high-performing months (July and October) with targeted marketing and extended hours. Develop special events and promotions to boost sales during slower months like February.\n",
    "- The dramatic drop in March 2023 needs immediate attention and analysis to understand its cause and potential long-term implications."
   ]
  },
  {
   "cell_type": "markdown",
   "metadata": {},
   "source": [
    "## Reference\n",
    "University of Southern California Libraries. (n.d.). Research guides: Demographics: Age groups. USC Libraries. https://libguides.usc.edu/busdem/age"
   ]
  }
 ],
 "metadata": {
  "kernelspec": {
   "display_name": "Python 3 (ipykernel)",
   "language": "python",
   "name": "python3"
  },
  "language_info": {
   "codemirror_mode": {
    "name": "ipython",
    "version": 3
   },
   "file_extension": ".py",
   "mimetype": "text/x-python",
   "name": "python",
   "nbconvert_exporter": "python",
   "pygments_lexer": "ipython3",
   "version": "3.11.5"
  }
 },
 "nbformat": 4,
 "nbformat_minor": 4
}
